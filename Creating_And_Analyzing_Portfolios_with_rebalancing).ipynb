{
 "cells": [
  {
   "cell_type": "markdown",
   "id": "3dec88eb",
   "metadata": {},
   "source": [
    "# Creating & Analyzing Equity Portfolios (with rebalancing)\n",
    "\n",
    "__Objectives:__\n",
    "\n",
    "-> Find out if active rebalancing where Weights are restored to initial/target weights at the end of each day will result in upward shift of efficient frontier\n",
    "-  Doing so will result in selling daily winners and buying daily losers to restore original weights. Contrarian Trading Strategy\n",
    "\n",
    "__Method:__\n",
    "\n",
    "1. We import 'scipy.optimize', for python to optimise what we want, be it the maximum return portfolio, or the one with the lowest risk.\n",
    "   - We use a constraint function, and a function to input what we want to maximize or minimize\n",
    "   - We create 10,000 portfolios within the constraints given (what we want to do - be it maximise return or find one with lowest Risk or highest RaR) with differing weights and plot them using matplotlib\n",
    "   - We plot the daily rebalanced portfolio and it's efficient frontier against the one that was not rebalanced to compare performance\n",
    "\n",
    "\n",
    "__Key Learnings:__\n",
    "\n",
    "1. To maximise RaR, the optimizer function returned that we should have:\n",
    "   - 31.3% MSFT, 24.32% TSLA and 22.88% GE, 21.47% AAPL, none of the rest, as these 4 are on the efficient frontier.\n",
    "   - The CAGR of this portfolio will be 40.75%!\n",
    "   - The Volitility 27.27% (Standard Deviatoin)\n",
    "   - Risk Adjsuted Return (RaR) at 1.49! \n",
    "\n",
    "\n",
    "2. Significant Rebalancing Costs eat up Rebalancing Benefits\n",
    "   - Solution: Reduce Rebalacing Frequency to monthly/quarterly (reduces costs but also benefits)\n",
    "   - Only rebalance if calculated rebalancing costs are lower than rebalancing benefits\n",
    "     \n",
    "3. Upward Shift of Efficient Frontier when balanced daily: (as could be seen with the 2 efficient frontiers!)\n",
    "- equal risk & more return or\n",
    "- equal return & less risk\n",
    "\n",
    "4. As I was optimizing the past here:<br>\n",
    "- Very unlikely we had selected this optimal portfolio back then (look ahead bias)! <br>\n",
    "- Very unlikely this will be the optimal portfolio in the future (past performance is not a good indicator for future performance)!\n",
    "\n",
    "\n"
   ]
  },
  {
   "cell_type": "markdown",
   "id": "c833d1fa",
   "metadata": {},
   "source": [
    "## Getting started"
   ]
  },
  {
   "cell_type": "code",
   "execution_count": 70,
   "id": "dcc56de6",
   "metadata": {},
   "outputs": [
    {
     "name": "stderr",
     "output_type": "stream",
     "text": [
      "[*********************100%%**********************]  8 of 8 completed\n"
     ]
    },
    {
     "data": {
      "text/html": [
       "<div>\n",
       "<style scoped>\n",
       "    .dataframe tbody tr th:only-of-type {\n",
       "        vertical-align: middle;\n",
       "    }\n",
       "\n",
       "    .dataframe tbody tr th {\n",
       "        vertical-align: top;\n",
       "    }\n",
       "\n",
       "    .dataframe thead th {\n",
       "        text-align: right;\n",
       "    }\n",
       "</style>\n",
       "<table border=\"1\" class=\"dataframe\">\n",
       "  <thead>\n",
       "    <tr style=\"text-align: right;\">\n",
       "      <th>Ticker</th>\n",
       "      <th>AAPL</th>\n",
       "      <th>BA</th>\n",
       "      <th>DIS</th>\n",
       "      <th>GE</th>\n",
       "      <th>JPM</th>\n",
       "      <th>MSFT</th>\n",
       "      <th>TSLA</th>\n",
       "      <th>WMT</th>\n",
       "    </tr>\n",
       "    <tr>\n",
       "      <th>Date</th>\n",
       "      <th></th>\n",
       "      <th></th>\n",
       "      <th></th>\n",
       "      <th></th>\n",
       "      <th></th>\n",
       "      <th></th>\n",
       "      <th></th>\n",
       "      <th></th>\n",
       "    </tr>\n",
       "  </thead>\n",
       "  <tbody>\n",
       "    <tr>\n",
       "      <th>2019-09-09</th>\n",
       "      <td>53.54</td>\n",
       "      <td>358.78</td>\n",
       "      <td>138.83</td>\n",
       "      <td>44.66</td>\n",
       "      <td>115.40</td>\n",
       "      <td>137.52</td>\n",
       "      <td>15.45</td>\n",
       "      <td>38.78</td>\n",
       "    </tr>\n",
       "    <tr>\n",
       "      <th>2019-09-10</th>\n",
       "      <td>54.17</td>\n",
       "      <td>369.49</td>\n",
       "      <td>135.79</td>\n",
       "      <td>45.55</td>\n",
       "      <td>116.87</td>\n",
       "      <td>136.08</td>\n",
       "      <td>15.70</td>\n",
       "      <td>38.68</td>\n",
       "    </tr>\n",
       "    <tr>\n",
       "      <th>2019-09-11</th>\n",
       "      <td>55.90</td>\n",
       "      <td>382.94</td>\n",
       "      <td>136.19</td>\n",
       "      <td>46.65</td>\n",
       "      <td>117.19</td>\n",
       "      <td>136.12</td>\n",
       "      <td>16.47</td>\n",
       "      <td>38.67</td>\n",
       "    </tr>\n",
       "    <tr>\n",
       "      <th>2019-09-12</th>\n",
       "      <td>55.77</td>\n",
       "      <td>375.63</td>\n",
       "      <td>137.50</td>\n",
       "      <td>46.15</td>\n",
       "      <td>117.91</td>\n",
       "      <td>137.52</td>\n",
       "      <td>16.39</td>\n",
       "      <td>38.97</td>\n",
       "    </tr>\n",
       "    <tr>\n",
       "      <th>2019-09-13</th>\n",
       "      <td>54.69</td>\n",
       "      <td>379.76</td>\n",
       "      <td>138.02</td>\n",
       "      <td>46.55</td>\n",
       "      <td>120.23</td>\n",
       "      <td>137.32</td>\n",
       "      <td>16.35</td>\n",
       "      <td>39.14</td>\n",
       "    </tr>\n",
       "    <tr>\n",
       "      <th>...</th>\n",
       "      <td>...</td>\n",
       "      <td>...</td>\n",
       "      <td>...</td>\n",
       "      <td>...</td>\n",
       "      <td>...</td>\n",
       "      <td>...</td>\n",
       "      <td>...</td>\n",
       "      <td>...</td>\n",
       "    </tr>\n",
       "    <tr>\n",
       "      <th>2024-08-30</th>\n",
       "      <td>229.00</td>\n",
       "      <td>173.74</td>\n",
       "      <td>90.38</td>\n",
       "      <td>174.62</td>\n",
       "      <td>224.80</td>\n",
       "      <td>417.14</td>\n",
       "      <td>214.11</td>\n",
       "      <td>77.23</td>\n",
       "    </tr>\n",
       "    <tr>\n",
       "      <th>2024-09-03</th>\n",
       "      <td>222.77</td>\n",
       "      <td>161.02</td>\n",
       "      <td>89.13</td>\n",
       "      <td>164.21</td>\n",
       "      <td>220.30</td>\n",
       "      <td>409.44</td>\n",
       "      <td>210.60</td>\n",
       "      <td>77.17</td>\n",
       "    </tr>\n",
       "    <tr>\n",
       "      <th>2024-09-04</th>\n",
       "      <td>220.85</td>\n",
       "      <td>163.22</td>\n",
       "      <td>89.25</td>\n",
       "      <td>166.36</td>\n",
       "      <td>219.33</td>\n",
       "      <td>408.90</td>\n",
       "      <td>219.41</td>\n",
       "      <td>77.24</td>\n",
       "    </tr>\n",
       "    <tr>\n",
       "      <th>2024-09-05</th>\n",
       "      <td>222.38</td>\n",
       "      <td>162.15</td>\n",
       "      <td>88.65</td>\n",
       "      <td>163.85</td>\n",
       "      <td>217.63</td>\n",
       "      <td>408.39</td>\n",
       "      <td>230.17</td>\n",
       "      <td>76.96</td>\n",
       "    </tr>\n",
       "    <tr>\n",
       "      <th>2024-09-06</th>\n",
       "      <td>220.82</td>\n",
       "      <td>157.62</td>\n",
       "      <td>87.94</td>\n",
       "      <td>161.23</td>\n",
       "      <td>212.46</td>\n",
       "      <td>401.70</td>\n",
       "      <td>210.73</td>\n",
       "      <td>76.64</td>\n",
       "    </tr>\n",
       "  </tbody>\n",
       "</table>\n",
       "<p>1258 rows × 8 columns</p>\n",
       "</div>"
      ],
      "text/plain": [
       "Ticker       AAPL     BA    DIS     GE    JPM   MSFT   TSLA   WMT\n",
       "Date                                                             \n",
       "2019-09-09  53.54 358.78 138.83  44.66 115.40 137.52  15.45 38.78\n",
       "2019-09-10  54.17 369.49 135.79  45.55 116.87 136.08  15.70 38.68\n",
       "2019-09-11  55.90 382.94 136.19  46.65 117.19 136.12  16.47 38.67\n",
       "2019-09-12  55.77 375.63 137.50  46.15 117.91 137.52  16.39 38.97\n",
       "2019-09-13  54.69 379.76 138.02  46.55 120.23 137.32  16.35 39.14\n",
       "...           ...    ...    ...    ...    ...    ...    ...   ...\n",
       "2024-08-30 229.00 173.74  90.38 174.62 224.80 417.14 214.11 77.23\n",
       "2024-09-03 222.77 161.02  89.13 164.21 220.30 409.44 210.60 77.17\n",
       "2024-09-04 220.85 163.22  89.25 166.36 219.33 408.90 219.41 77.24\n",
       "2024-09-05 222.38 162.15  88.65 163.85 217.63 408.39 230.17 76.96\n",
       "2024-09-06 220.82 157.62  87.94 161.23 212.46 401.70 210.73 76.64\n",
       "\n",
       "[1258 rows x 8 columns]"
      ]
     },
     "execution_count": 70,
     "metadata": {},
     "output_type": "execute_result"
    }
   ],
   "source": [
    "import pandas as pd\n",
    "import numpy as np\n",
    "import matplotlib.pyplot as plt\n",
    "import yfinance as yf\n",
    "pd.set_option('display.float_format', lambda x: '%.2f' % x)\n",
    "\n",
    "#5 year past data\n",
    "start = '2019-09-09'\n",
    "end = '2024-09-09'\n",
    "symbol = ['AAPL', 'BA', 'DIS', 'GE', 'JPM', 'MSFT', 'TSLA', 'WMT']\n",
    "df = yf.download(symbol, start, end ).Close\n",
    "df"
   ]
  },
  {
   "cell_type": "code",
   "execution_count": 72,
   "id": "7d8fe524",
   "metadata": {},
   "outputs": [
    {
     "data": {
      "text/html": [
       "<div>\n",
       "<style scoped>\n",
       "    .dataframe tbody tr th:only-of-type {\n",
       "        vertical-align: middle;\n",
       "    }\n",
       "\n",
       "    .dataframe tbody tr th {\n",
       "        vertical-align: top;\n",
       "    }\n",
       "\n",
       "    .dataframe thead th {\n",
       "        text-align: right;\n",
       "    }\n",
       "</style>\n",
       "<table border=\"1\" class=\"dataframe\">\n",
       "  <thead>\n",
       "    <tr style=\"text-align: right;\">\n",
       "      <th>Ticker</th>\n",
       "      <th>AAPL</th>\n",
       "      <th>BA</th>\n",
       "      <th>DIS</th>\n",
       "      <th>GE</th>\n",
       "      <th>JPM</th>\n",
       "      <th>MSFT</th>\n",
       "      <th>TSLA</th>\n",
       "      <th>WMT</th>\n",
       "    </tr>\n",
       "    <tr>\n",
       "      <th>Date</th>\n",
       "      <th></th>\n",
       "      <th></th>\n",
       "      <th></th>\n",
       "      <th></th>\n",
       "      <th></th>\n",
       "      <th></th>\n",
       "      <th></th>\n",
       "      <th></th>\n",
       "    </tr>\n",
       "  </thead>\n",
       "  <tbody>\n",
       "    <tr>\n",
       "      <th>2019-09-10</th>\n",
       "      <td>0.01</td>\n",
       "      <td>0.03</td>\n",
       "      <td>-0.02</td>\n",
       "      <td>0.02</td>\n",
       "      <td>0.01</td>\n",
       "      <td>-0.01</td>\n",
       "      <td>0.02</td>\n",
       "      <td>-0.00</td>\n",
       "    </tr>\n",
       "    <tr>\n",
       "      <th>2019-09-11</th>\n",
       "      <td>0.03</td>\n",
       "      <td>0.04</td>\n",
       "      <td>0.00</td>\n",
       "      <td>0.02</td>\n",
       "      <td>0.00</td>\n",
       "      <td>0.00</td>\n",
       "      <td>0.05</td>\n",
       "      <td>-0.00</td>\n",
       "    </tr>\n",
       "    <tr>\n",
       "      <th>2019-09-12</th>\n",
       "      <td>-0.00</td>\n",
       "      <td>-0.02</td>\n",
       "      <td>0.01</td>\n",
       "      <td>-0.01</td>\n",
       "      <td>0.01</td>\n",
       "      <td>0.01</td>\n",
       "      <td>-0.00</td>\n",
       "      <td>0.01</td>\n",
       "    </tr>\n",
       "    <tr>\n",
       "      <th>2019-09-13</th>\n",
       "      <td>-0.02</td>\n",
       "      <td>0.01</td>\n",
       "      <td>0.00</td>\n",
       "      <td>0.01</td>\n",
       "      <td>0.02</td>\n",
       "      <td>-0.00</td>\n",
       "      <td>-0.00</td>\n",
       "      <td>0.00</td>\n",
       "    </tr>\n",
       "    <tr>\n",
       "      <th>2019-09-16</th>\n",
       "      <td>0.01</td>\n",
       "      <td>-0.00</td>\n",
       "      <td>-0.02</td>\n",
       "      <td>0.00</td>\n",
       "      <td>-0.01</td>\n",
       "      <td>-0.01</td>\n",
       "      <td>-0.01</td>\n",
       "      <td>-0.02</td>\n",
       "    </tr>\n",
       "    <tr>\n",
       "      <th>...</th>\n",
       "      <td>...</td>\n",
       "      <td>...</td>\n",
       "      <td>...</td>\n",
       "      <td>...</td>\n",
       "      <td>...</td>\n",
       "      <td>...</td>\n",
       "      <td>...</td>\n",
       "      <td>...</td>\n",
       "    </tr>\n",
       "    <tr>\n",
       "      <th>2024-08-30</th>\n",
       "      <td>-0.00</td>\n",
       "      <td>0.01</td>\n",
       "      <td>0.01</td>\n",
       "      <td>0.01</td>\n",
       "      <td>0.01</td>\n",
       "      <td>0.01</td>\n",
       "      <td>0.04</td>\n",
       "      <td>0.01</td>\n",
       "    </tr>\n",
       "    <tr>\n",
       "      <th>2024-09-03</th>\n",
       "      <td>-0.03</td>\n",
       "      <td>-0.07</td>\n",
       "      <td>-0.01</td>\n",
       "      <td>-0.06</td>\n",
       "      <td>-0.02</td>\n",
       "      <td>-0.02</td>\n",
       "      <td>-0.02</td>\n",
       "      <td>-0.00</td>\n",
       "    </tr>\n",
       "    <tr>\n",
       "      <th>2024-09-04</th>\n",
       "      <td>-0.01</td>\n",
       "      <td>0.01</td>\n",
       "      <td>0.00</td>\n",
       "      <td>0.01</td>\n",
       "      <td>-0.00</td>\n",
       "      <td>-0.00</td>\n",
       "      <td>0.04</td>\n",
       "      <td>0.00</td>\n",
       "    </tr>\n",
       "    <tr>\n",
       "      <th>2024-09-05</th>\n",
       "      <td>0.01</td>\n",
       "      <td>-0.01</td>\n",
       "      <td>-0.01</td>\n",
       "      <td>-0.02</td>\n",
       "      <td>-0.01</td>\n",
       "      <td>-0.00</td>\n",
       "      <td>0.05</td>\n",
       "      <td>-0.00</td>\n",
       "    </tr>\n",
       "    <tr>\n",
       "      <th>2024-09-06</th>\n",
       "      <td>-0.01</td>\n",
       "      <td>-0.03</td>\n",
       "      <td>-0.01</td>\n",
       "      <td>-0.02</td>\n",
       "      <td>-0.02</td>\n",
       "      <td>-0.02</td>\n",
       "      <td>-0.08</td>\n",
       "      <td>-0.00</td>\n",
       "    </tr>\n",
       "  </tbody>\n",
       "</table>\n",
       "<p>1257 rows × 8 columns</p>\n",
       "</div>"
      ],
      "text/plain": [
       "Ticker      AAPL    BA   DIS    GE   JPM  MSFT  TSLA   WMT\n",
       "Date                                                      \n",
       "2019-09-10  0.01  0.03 -0.02  0.02  0.01 -0.01  0.02 -0.00\n",
       "2019-09-11  0.03  0.04  0.00  0.02  0.00  0.00  0.05 -0.00\n",
       "2019-09-12 -0.00 -0.02  0.01 -0.01  0.01  0.01 -0.00  0.01\n",
       "2019-09-13 -0.02  0.01  0.00  0.01  0.02 -0.00 -0.00  0.00\n",
       "2019-09-16  0.01 -0.00 -0.02  0.00 -0.01 -0.01 -0.01 -0.02\n",
       "...          ...   ...   ...   ...   ...   ...   ...   ...\n",
       "2024-08-30 -0.00  0.01  0.01  0.01  0.01  0.01  0.04  0.01\n",
       "2024-09-03 -0.03 -0.07 -0.01 -0.06 -0.02 -0.02 -0.02 -0.00\n",
       "2024-09-04 -0.01  0.01  0.00  0.01 -0.00 -0.00  0.04  0.00\n",
       "2024-09-05  0.01 -0.01 -0.01 -0.02 -0.01 -0.00  0.05 -0.00\n",
       "2024-09-06 -0.01 -0.03 -0.01 -0.02 -0.02 -0.02 -0.08 -0.00\n",
       "\n",
       "[1257 rows x 8 columns]"
      ]
     },
     "execution_count": 72,
     "metadata": {},
     "output_type": "execute_result"
    }
   ],
   "source": [
    "returns = df.pct_change().dropna() \n",
    "returns"
   ]
  },
  {
   "cell_type": "code",
   "execution_count": 74,
   "id": "4c2cfa79",
   "metadata": {},
   "outputs": [
    {
     "name": "stdout",
     "output_type": "stream",
     "text": [
      "<class 'pandas.core.frame.DataFrame'>\n",
      "DatetimeIndex: 1257 entries, 2019-09-10 to 2024-09-06\n",
      "Data columns (total 8 columns):\n",
      " #   Column  Non-Null Count  Dtype  \n",
      "---  ------  --------------  -----  \n",
      " 0   AAPL    1257 non-null   float64\n",
      " 1   BA      1257 non-null   float64\n",
      " 2   DIS     1257 non-null   float64\n",
      " 3   GE      1257 non-null   float64\n",
      " 4   JPM     1257 non-null   float64\n",
      " 5   MSFT    1257 non-null   float64\n",
      " 6   TSLA    1257 non-null   float64\n",
      " 7   WMT     1257 non-null   float64\n",
      "dtypes: float64(8)\n",
      "memory usage: 88.4 KB\n"
     ]
    }
   ],
   "source": [
    "returns.info()"
   ]
  },
  {
   "cell_type": "code",
   "execution_count": 76,
   "id": "88183776",
   "metadata": {},
   "outputs": [],
   "source": [
    "def ann_risk_return(returns_df): # assumes simple returns as input\n",
    "    summary = pd.DataFrame(index = returns_df.columns)\n",
    "    summary[\"ann. Risk\"] = returns_df.std() * np.sqrt(252)\n",
    "    log_returns = np.log(returns_df + 1)\n",
    "    summary[\"CAGR\"] = np.exp(log_returns.mean() * 252) - 1\n",
    "    return summary"
   ]
  },
  {
   "cell_type": "code",
   "execution_count": 78,
   "id": "2cd02c8b",
   "metadata": {},
   "outputs": [
    {
     "data": {
      "text/html": [
       "<div>\n",
       "<style scoped>\n",
       "    .dataframe tbody tr th:only-of-type {\n",
       "        vertical-align: middle;\n",
       "    }\n",
       "\n",
       "    .dataframe tbody tr th {\n",
       "        vertical-align: top;\n",
       "    }\n",
       "\n",
       "    .dataframe thead th {\n",
       "        text-align: right;\n",
       "    }\n",
       "</style>\n",
       "<table border=\"1\" class=\"dataframe\">\n",
       "  <thead>\n",
       "    <tr style=\"text-align: right;\">\n",
       "      <th></th>\n",
       "      <th>ann. Risk</th>\n",
       "      <th>CAGR</th>\n",
       "    </tr>\n",
       "    <tr>\n",
       "      <th>Ticker</th>\n",
       "      <th></th>\n",
       "      <th></th>\n",
       "    </tr>\n",
       "  </thead>\n",
       "  <tbody>\n",
       "    <tr>\n",
       "      <th>AAPL</th>\n",
       "      <td>0.32</td>\n",
       "      <td>0.33</td>\n",
       "    </tr>\n",
       "    <tr>\n",
       "      <th>BA</th>\n",
       "      <td>0.51</td>\n",
       "      <td>-0.16</td>\n",
       "    </tr>\n",
       "    <tr>\n",
       "      <th>DIS</th>\n",
       "      <td>0.34</td>\n",
       "      <td>-0.08</td>\n",
       "    </tr>\n",
       "    <tr>\n",
       "      <th>GE</th>\n",
       "      <td>0.40</td>\n",
       "      <td>0.29</td>\n",
       "    </tr>\n",
       "    <tr>\n",
       "      <th>JPM</th>\n",
       "      <td>0.32</td>\n",
       "      <td>0.13</td>\n",
       "    </tr>\n",
       "    <tr>\n",
       "      <th>MSFT</th>\n",
       "      <td>0.30</td>\n",
       "      <td>0.24</td>\n",
       "    </tr>\n",
       "    <tr>\n",
       "      <th>TSLA</th>\n",
       "      <td>0.66</td>\n",
       "      <td>0.68</td>\n",
       "    </tr>\n",
       "    <tr>\n",
       "      <th>WMT</th>\n",
       "      <td>0.22</td>\n",
       "      <td>0.15</td>\n",
       "    </tr>\n",
       "  </tbody>\n",
       "</table>\n",
       "</div>"
      ],
      "text/plain": [
       "        ann. Risk  CAGR\n",
       "Ticker                 \n",
       "AAPL         0.32  0.33\n",
       "BA           0.51 -0.16\n",
       "DIS          0.34 -0.08\n",
       "GE           0.40  0.29\n",
       "JPM          0.32  0.13\n",
       "MSFT         0.30  0.24\n",
       "TSLA         0.66  0.68\n",
       "WMT          0.22  0.15"
      ]
     },
     "execution_count": 78,
     "metadata": {},
     "output_type": "execute_result"
    }
   ],
   "source": [
    "summary = ann_risk_return(returns.iloc[1:])\n",
    "summary"
   ]
  },
  {
   "cell_type": "code",
   "execution_count": null,
   "id": "1c59690c",
   "metadata": {},
   "outputs": [],
   "source": []
  },
  {
   "cell_type": "markdown",
   "id": "ac5e4d65",
   "metadata": {},
   "source": [
    "## Creating Random Portfolios (Part 1)"
   ]
  },
  {
   "cell_type": "code",
   "execution_count": 82,
   "id": "bba88209",
   "metadata": {},
   "outputs": [
    {
     "data": {
      "text/plain": [
       "8"
      ]
     },
     "execution_count": 82,
     "metadata": {},
     "output_type": "execute_result"
    }
   ],
   "source": [
    "noa = len(returns.columns) # number of assets\n",
    "noa"
   ]
  },
  {
   "cell_type": "code",
   "execution_count": 84,
   "id": "fb48ba70",
   "metadata": {},
   "outputs": [
    {
     "data": {
      "text/plain": [
       "10000"
      ]
     },
     "execution_count": 84,
     "metadata": {},
     "output_type": "execute_result"
    }
   ],
   "source": [
    "nop = 10000 # number of random portfolios\n",
    "nop\n"
   ]
  },
  {
   "cell_type": "code",
   "execution_count": 86,
   "id": "303842ff",
   "metadata": {},
   "outputs": [],
   "source": [
    "# 80,000 random floats between 0 and 1\n",
    "np.random.seed(123)\n",
    "matrix = np.random.random(noa * nop).reshape(nop, noa)"
   ]
  },
  {
   "cell_type": "code",
   "execution_count": 88,
   "id": "1c90ff7b",
   "metadata": {},
   "outputs": [
    {
     "data": {
      "text/plain": [
       "array([[0.69646919, 0.28613933, 0.22685145, ..., 0.42310646, 0.9807642 ,\n",
       "        0.68482974],\n",
       "       [0.4809319 , 0.39211752, 0.34317802, ..., 0.0596779 , 0.39804426,\n",
       "        0.73799541],\n",
       "       [0.18249173, 0.17545176, 0.53155137, ..., 0.84943179, 0.72445532,\n",
       "        0.61102351],\n",
       "       ...,\n",
       "       [0.1412533 , 0.28570045, 0.56403074, ..., 0.34359409, 0.87588094,\n",
       "        0.78291379],\n",
       "       [0.1896295 , 0.45365639, 0.82695243, ..., 0.91009298, 0.92561585,\n",
       "        0.38263481],\n",
       "       [0.84641632, 0.3538014 , 0.67855546, ..., 0.40234825, 0.42038566,\n",
       "        0.91972547]])"
      ]
     },
     "execution_count": 88,
     "metadata": {},
     "output_type": "execute_result"
    }
   ],
   "source": [
    "matrix"
   ]
  },
  {
   "cell_type": "code",
   "execution_count": 90,
   "id": "6adedb04",
   "metadata": {},
   "outputs": [
    {
     "data": {
      "text/plain": [
       "(10000, 8)"
      ]
     },
     "execution_count": 90,
     "metadata": {},
     "output_type": "execute_result"
    }
   ],
   "source": [
    "matrix.shape"
   ]
  },
  {
   "cell_type": "code",
   "execution_count": 92,
   "id": "2ff10bc5",
   "metadata": {},
   "outputs": [
    {
     "data": {
      "text/plain": [
       "array([4.56894411, 3.57956695, 4.24063404, ..., 3.82262761, 4.93698499,\n",
       "       3.99183794])"
      ]
     },
     "execution_count": 92,
     "metadata": {},
     "output_type": "execute_result"
    }
   ],
   "source": [
    "matrix.sum(axis = 1).reshape(10000)"
   ]
  },
  {
   "cell_type": "code",
   "execution_count": 94,
   "id": "01d5efb0",
   "metadata": {},
   "outputs": [
    {
     "data": {
      "text/plain": [
       "array([[0.15243548, 0.06262702, 0.04965074, ..., 0.09260487, 0.21465883,\n",
       "        0.14988797],\n",
       "       [0.13435477, 0.10954328, 0.09587138, ..., 0.01667182, 0.111199  ,\n",
       "        0.20616891],\n",
       "       [0.04303407, 0.04137394, 0.12534715, ..., 0.20030773, 0.17083656,\n",
       "        0.14408777],\n",
       "       ...,\n",
       "       [0.03695189, 0.07473928, 0.14755053, ..., 0.08988427, 0.22913059,\n",
       "        0.20481037],\n",
       "       [0.03840998, 0.09188936, 0.16750151, ..., 0.18434186, 0.18748606,\n",
       "        0.07750374],\n",
       "       [0.21203674, 0.0886312 , 0.16998572, ..., 0.10079273, 0.10531131,\n",
       "        0.2304015 ]])"
      ]
     },
     "execution_count": 94,
     "metadata": {},
     "output_type": "execute_result"
    }
   ],
   "source": [
    "weights = matrix / matrix.sum(axis = 1,keepdims= True) # make portfolio weights summing up to 1\n",
    "weights"
   ]
  },
  {
   "cell_type": "code",
   "execution_count": 96,
   "id": "bddd31f3",
   "metadata": {},
   "outputs": [
    {
     "data": {
      "text/plain": [
       "array([[1.],\n",
       "       [1.],\n",
       "       [1.],\n",
       "       ...,\n",
       "       [1.],\n",
       "       [1.],\n",
       "       [1.]])"
      ]
     },
     "execution_count": 96,
     "metadata": {},
     "output_type": "execute_result"
    }
   ],
   "source": [
    "weights.sum(axis = 1, keepdims= True)"
   ]
  },
  {
   "cell_type": "code",
   "execution_count": 98,
   "id": "86d2f374",
   "metadata": {},
   "outputs": [
    {
     "data": {
      "text/plain": [
       "array([0.15243548, 0.06262702, 0.04965074, 0.12066568, 0.15746942,\n",
       "       0.09260487, 0.21465883, 0.14988797])"
      ]
     },
     "execution_count": 98,
     "metadata": {},
     "output_type": "execute_result"
    }
   ],
   "source": [
    "w1 = weights[0]\n",
    "w1"
   ]
  },
  {
   "cell_type": "markdown",
   "id": "0ec31946",
   "metadata": {},
   "source": [
    "__Daily rebalancing of weights.__"
   ]
  },
  {
   "cell_type": "code",
   "execution_count": 101,
   "id": "6b7761b1",
   "metadata": {},
   "outputs": [
    {
     "data": {
      "text/plain": [
       "Date\n",
       "2019-09-10    0.01\n",
       "2019-09-11    0.02\n",
       "2019-09-12   -0.00\n",
       "2019-09-13    0.00\n",
       "2019-09-16   -0.01\n",
       "              ... \n",
       "2024-08-30    0.01\n",
       "2024-09-03   -0.03\n",
       "2024-09-04    0.01\n",
       "2024-09-05    0.01\n",
       "2024-09-06   -0.03\n",
       "Length: 1257, dtype: float64"
      ]
     },
     "execution_count": 101,
     "metadata": {},
     "output_type": "execute_result"
    }
   ],
   "source": [
    "returns.mul(w1).sum(axis = 1) # weighted average simple returns over time"
   ]
  },
  {
   "cell_type": "code",
   "execution_count": 103,
   "id": "fd885c05",
   "metadata": {},
   "outputs": [
    {
     "data": {
      "text/plain": [
       "Date\n",
       "2019-09-10    0.01\n",
       "2019-09-11    0.02\n",
       "2019-09-12   -0.00\n",
       "2019-09-13    0.00\n",
       "2019-09-16   -0.01\n",
       "              ... \n",
       "2024-08-30    0.01\n",
       "2024-09-03   -0.03\n",
       "2024-09-04    0.01\n",
       "2024-09-05    0.01\n",
       "2024-09-06   -0.03\n",
       "Length: 1257, dtype: float64"
      ]
     },
     "execution_count": 103,
     "metadata": {},
     "output_type": "execute_result"
    }
   ],
   "source": [
    "port1 = returns.dot(w1) # dot product\n",
    "port1"
   ]
  },
  {
   "cell_type": "code",
   "execution_count": 106,
   "id": "d415901b",
   "metadata": {},
   "outputs": [
    {
     "data": {
      "text/html": [
       "<div>\n",
       "<style scoped>\n",
       "    .dataframe tbody tr th:only-of-type {\n",
       "        vertical-align: middle;\n",
       "    }\n",
       "\n",
       "    .dataframe tbody tr th {\n",
       "        vertical-align: top;\n",
       "    }\n",
       "\n",
       "    .dataframe thead th {\n",
       "        text-align: right;\n",
       "    }\n",
       "</style>\n",
       "<table border=\"1\" class=\"dataframe\">\n",
       "  <thead>\n",
       "    <tr style=\"text-align: right;\">\n",
       "      <th></th>\n",
       "      <th>ann. Risk</th>\n",
       "      <th>CAGR</th>\n",
       "    </tr>\n",
       "  </thead>\n",
       "  <tbody>\n",
       "    <tr>\n",
       "      <th>0</th>\n",
       "      <td>0.28</td>\n",
       "      <td>0.33</td>\n",
       "    </tr>\n",
       "  </tbody>\n",
       "</table>\n",
       "</div>"
      ],
      "text/plain": [
       "   ann. Risk  CAGR\n",
       "0       0.28  0.33"
      ]
     },
     "execution_count": 106,
     "metadata": {},
     "output_type": "execute_result"
    }
   ],
   "source": [
    "ann_risk_return(port1.to_frame())"
   ]
  },
  {
   "cell_type": "code",
   "execution_count": null,
   "id": "46c72149",
   "metadata": {},
   "outputs": [],
   "source": []
  },
  {
   "cell_type": "markdown",
   "id": "c2537de6",
   "metadata": {},
   "source": [
    "## Creating Random Portfolios (Part 2)"
   ]
  },
  {
   "cell_type": "code",
   "execution_count": 111,
   "id": "0649b723",
   "metadata": {},
   "outputs": [
    {
     "data": {
      "text/plain": [
       "array([[0.15243548, 0.06262702, 0.04965074, ..., 0.09260487, 0.21465883,\n",
       "        0.14988797],\n",
       "       [0.13435477, 0.10954328, 0.09587138, ..., 0.01667182, 0.111199  ,\n",
       "        0.20616891],\n",
       "       [0.04303407, 0.04137394, 0.12534715, ..., 0.20030773, 0.17083656,\n",
       "        0.14408777],\n",
       "       ...,\n",
       "       [0.03695189, 0.07473928, 0.14755053, ..., 0.08988427, 0.22913059,\n",
       "        0.20481037],\n",
       "       [0.03840998, 0.09188936, 0.16750151, ..., 0.18434186, 0.18748606,\n",
       "        0.07750374],\n",
       "       [0.21203674, 0.0886312 , 0.16998572, ..., 0.10079273, 0.10531131,\n",
       "        0.2304015 ]])"
      ]
     },
     "execution_count": 111,
     "metadata": {},
     "output_type": "execute_result"
    }
   ],
   "source": [
    "weights"
   ]
  },
  {
   "cell_type": "code",
   "execution_count": 113,
   "id": "86f6c44e",
   "metadata": {},
   "outputs": [
    {
     "data": {
      "text/html": [
       "<div>\n",
       "<style scoped>\n",
       "    .dataframe tbody tr th:only-of-type {\n",
       "        vertical-align: middle;\n",
       "    }\n",
       "\n",
       "    .dataframe tbody tr th {\n",
       "        vertical-align: top;\n",
       "    }\n",
       "\n",
       "    .dataframe thead th {\n",
       "        text-align: right;\n",
       "    }\n",
       "</style>\n",
       "<table border=\"1\" class=\"dataframe\">\n",
       "  <thead>\n",
       "    <tr style=\"text-align: right;\">\n",
       "      <th></th>\n",
       "      <th>0</th>\n",
       "      <th>1</th>\n",
       "      <th>2</th>\n",
       "      <th>3</th>\n",
       "      <th>4</th>\n",
       "      <th>5</th>\n",
       "      <th>6</th>\n",
       "      <th>7</th>\n",
       "      <th>8</th>\n",
       "      <th>9</th>\n",
       "      <th>...</th>\n",
       "      <th>9990</th>\n",
       "      <th>9991</th>\n",
       "      <th>9992</th>\n",
       "      <th>9993</th>\n",
       "      <th>9994</th>\n",
       "      <th>9995</th>\n",
       "      <th>9996</th>\n",
       "      <th>9997</th>\n",
       "      <th>9998</th>\n",
       "      <th>9999</th>\n",
       "    </tr>\n",
       "    <tr>\n",
       "      <th>Date</th>\n",
       "      <th></th>\n",
       "      <th></th>\n",
       "      <th></th>\n",
       "      <th></th>\n",
       "      <th></th>\n",
       "      <th></th>\n",
       "      <th></th>\n",
       "      <th></th>\n",
       "      <th></th>\n",
       "      <th></th>\n",
       "      <th></th>\n",
       "      <th></th>\n",
       "      <th></th>\n",
       "      <th></th>\n",
       "      <th></th>\n",
       "      <th></th>\n",
       "      <th></th>\n",
       "      <th></th>\n",
       "      <th></th>\n",
       "      <th></th>\n",
       "      <th></th>\n",
       "    </tr>\n",
       "  </thead>\n",
       "  <tbody>\n",
       "    <tr>\n",
       "      <th>2019-09-10</th>\n",
       "      <td>0.01</td>\n",
       "      <td>0.01</td>\n",
       "      <td>0.00</td>\n",
       "      <td>0.00</td>\n",
       "      <td>0.01</td>\n",
       "      <td>0.01</td>\n",
       "      <td>0.01</td>\n",
       "      <td>0.01</td>\n",
       "      <td>-0.00</td>\n",
       "      <td>0.01</td>\n",
       "      <td>...</td>\n",
       "      <td>0.01</td>\n",
       "      <td>0.00</td>\n",
       "      <td>0.01</td>\n",
       "      <td>0.00</td>\n",
       "      <td>0.01</td>\n",
       "      <td>0.01</td>\n",
       "      <td>0.00</td>\n",
       "      <td>0.01</td>\n",
       "      <td>0.00</td>\n",
       "      <td>0.00</td>\n",
       "    </tr>\n",
       "    <tr>\n",
       "      <th>2019-09-11</th>\n",
       "      <td>0.02</td>\n",
       "      <td>0.02</td>\n",
       "      <td>0.02</td>\n",
       "      <td>0.02</td>\n",
       "      <td>0.02</td>\n",
       "      <td>0.02</td>\n",
       "      <td>0.02</td>\n",
       "      <td>0.02</td>\n",
       "      <td>0.01</td>\n",
       "      <td>0.02</td>\n",
       "      <td>...</td>\n",
       "      <td>0.03</td>\n",
       "      <td>0.02</td>\n",
       "      <td>0.01</td>\n",
       "      <td>0.01</td>\n",
       "      <td>0.03</td>\n",
       "      <td>0.02</td>\n",
       "      <td>0.01</td>\n",
       "      <td>0.02</td>\n",
       "      <td>0.02</td>\n",
       "      <td>0.02</td>\n",
       "    </tr>\n",
       "    <tr>\n",
       "      <th>2019-09-12</th>\n",
       "      <td>-0.00</td>\n",
       "      <td>-0.00</td>\n",
       "      <td>0.00</td>\n",
       "      <td>0.00</td>\n",
       "      <td>0.00</td>\n",
       "      <td>0.00</td>\n",
       "      <td>-0.00</td>\n",
       "      <td>0.00</td>\n",
       "      <td>0.00</td>\n",
       "      <td>-0.00</td>\n",
       "      <td>...</td>\n",
       "      <td>-0.00</td>\n",
       "      <td>0.00</td>\n",
       "      <td>0.00</td>\n",
       "      <td>0.00</td>\n",
       "      <td>-0.00</td>\n",
       "      <td>-0.00</td>\n",
       "      <td>0.00</td>\n",
       "      <td>-0.00</td>\n",
       "      <td>0.00</td>\n",
       "      <td>0.00</td>\n",
       "    </tr>\n",
       "    <tr>\n",
       "      <th>2019-09-13</th>\n",
       "      <td>0.00</td>\n",
       "      <td>0.00</td>\n",
       "      <td>0.00</td>\n",
       "      <td>-0.00</td>\n",
       "      <td>0.00</td>\n",
       "      <td>0.00</td>\n",
       "      <td>0.00</td>\n",
       "      <td>0.00</td>\n",
       "      <td>-0.00</td>\n",
       "      <td>0.00</td>\n",
       "      <td>...</td>\n",
       "      <td>0.00</td>\n",
       "      <td>0.00</td>\n",
       "      <td>0.01</td>\n",
       "      <td>0.00</td>\n",
       "      <td>0.00</td>\n",
       "      <td>0.01</td>\n",
       "      <td>0.00</td>\n",
       "      <td>0.00</td>\n",
       "      <td>0.00</td>\n",
       "      <td>-0.00</td>\n",
       "    </tr>\n",
       "    <tr>\n",
       "      <th>2019-09-16</th>\n",
       "      <td>-0.01</td>\n",
       "      <td>-0.01</td>\n",
       "      <td>-0.01</td>\n",
       "      <td>-0.01</td>\n",
       "      <td>-0.01</td>\n",
       "      <td>-0.01</td>\n",
       "      <td>-0.00</td>\n",
       "      <td>-0.01</td>\n",
       "      <td>-0.01</td>\n",
       "      <td>-0.00</td>\n",
       "      <td>...</td>\n",
       "      <td>-0.00</td>\n",
       "      <td>-0.01</td>\n",
       "      <td>-0.01</td>\n",
       "      <td>-0.01</td>\n",
       "      <td>-0.01</td>\n",
       "      <td>-0.01</td>\n",
       "      <td>-0.01</td>\n",
       "      <td>-0.01</td>\n",
       "      <td>-0.01</td>\n",
       "      <td>-0.01</td>\n",
       "    </tr>\n",
       "    <tr>\n",
       "      <th>...</th>\n",
       "      <td>...</td>\n",
       "      <td>...</td>\n",
       "      <td>...</td>\n",
       "      <td>...</td>\n",
       "      <td>...</td>\n",
       "      <td>...</td>\n",
       "      <td>...</td>\n",
       "      <td>...</td>\n",
       "      <td>...</td>\n",
       "      <td>...</td>\n",
       "      <td>...</td>\n",
       "      <td>...</td>\n",
       "      <td>...</td>\n",
       "      <td>...</td>\n",
       "      <td>...</td>\n",
       "      <td>...</td>\n",
       "      <td>...</td>\n",
       "      <td>...</td>\n",
       "      <td>...</td>\n",
       "      <td>...</td>\n",
       "      <td>...</td>\n",
       "    </tr>\n",
       "    <tr>\n",
       "      <th>2024-08-30</th>\n",
       "      <td>0.01</td>\n",
       "      <td>0.01</td>\n",
       "      <td>0.01</td>\n",
       "      <td>0.01</td>\n",
       "      <td>0.01</td>\n",
       "      <td>0.01</td>\n",
       "      <td>0.01</td>\n",
       "      <td>0.01</td>\n",
       "      <td>0.01</td>\n",
       "      <td>0.01</td>\n",
       "      <td>...</td>\n",
       "      <td>0.01</td>\n",
       "      <td>0.01</td>\n",
       "      <td>0.01</td>\n",
       "      <td>0.01</td>\n",
       "      <td>0.02</td>\n",
       "      <td>0.01</td>\n",
       "      <td>0.01</td>\n",
       "      <td>0.01</td>\n",
       "      <td>0.01</td>\n",
       "      <td>0.01</td>\n",
       "    </tr>\n",
       "    <tr>\n",
       "      <th>2024-09-03</th>\n",
       "      <td>-0.03</td>\n",
       "      <td>-0.03</td>\n",
       "      <td>-0.02</td>\n",
       "      <td>-0.03</td>\n",
       "      <td>-0.03</td>\n",
       "      <td>-0.02</td>\n",
       "      <td>-0.04</td>\n",
       "      <td>-0.03</td>\n",
       "      <td>-0.02</td>\n",
       "      <td>-0.03</td>\n",
       "      <td>...</td>\n",
       "      <td>-0.04</td>\n",
       "      <td>-0.03</td>\n",
       "      <td>-0.03</td>\n",
       "      <td>-0.02</td>\n",
       "      <td>-0.02</td>\n",
       "      <td>-0.03</td>\n",
       "      <td>-0.02</td>\n",
       "      <td>-0.03</td>\n",
       "      <td>-0.02</td>\n",
       "      <td>-0.02</td>\n",
       "    </tr>\n",
       "    <tr>\n",
       "      <th>2024-09-04</th>\n",
       "      <td>0.01</td>\n",
       "      <td>0.01</td>\n",
       "      <td>0.01</td>\n",
       "      <td>0.00</td>\n",
       "      <td>0.01</td>\n",
       "      <td>0.00</td>\n",
       "      <td>0.01</td>\n",
       "      <td>0.01</td>\n",
       "      <td>0.00</td>\n",
       "      <td>0.00</td>\n",
       "      <td>...</td>\n",
       "      <td>0.01</td>\n",
       "      <td>0.01</td>\n",
       "      <td>0.00</td>\n",
       "      <td>0.00</td>\n",
       "      <td>0.01</td>\n",
       "      <td>0.01</td>\n",
       "      <td>0.00</td>\n",
       "      <td>0.01</td>\n",
       "      <td>0.01</td>\n",
       "      <td>0.01</td>\n",
       "    </tr>\n",
       "    <tr>\n",
       "      <th>2024-09-05</th>\n",
       "      <td>0.01</td>\n",
       "      <td>0.00</td>\n",
       "      <td>0.00</td>\n",
       "      <td>-0.00</td>\n",
       "      <td>0.01</td>\n",
       "      <td>0.00</td>\n",
       "      <td>-0.00</td>\n",
       "      <td>0.00</td>\n",
       "      <td>-0.00</td>\n",
       "      <td>-0.00</td>\n",
       "      <td>...</td>\n",
       "      <td>0.01</td>\n",
       "      <td>0.01</td>\n",
       "      <td>-0.00</td>\n",
       "      <td>0.00</td>\n",
       "      <td>0.01</td>\n",
       "      <td>0.01</td>\n",
       "      <td>0.00</td>\n",
       "      <td>0.01</td>\n",
       "      <td>0.00</td>\n",
       "      <td>0.00</td>\n",
       "    </tr>\n",
       "    <tr>\n",
       "      <th>2024-09-06</th>\n",
       "      <td>-0.03</td>\n",
       "      <td>-0.02</td>\n",
       "      <td>-0.03</td>\n",
       "      <td>-0.02</td>\n",
       "      <td>-0.03</td>\n",
       "      <td>-0.02</td>\n",
       "      <td>-0.02</td>\n",
       "      <td>-0.02</td>\n",
       "      <td>-0.01</td>\n",
       "      <td>-0.02</td>\n",
       "      <td>...</td>\n",
       "      <td>-0.03</td>\n",
       "      <td>-0.03</td>\n",
       "      <td>-0.02</td>\n",
       "      <td>-0.02</td>\n",
       "      <td>-0.04</td>\n",
       "      <td>-0.03</td>\n",
       "      <td>-0.02</td>\n",
       "      <td>-0.03</td>\n",
       "      <td>-0.03</td>\n",
       "      <td>-0.02</td>\n",
       "    </tr>\n",
       "  </tbody>\n",
       "</table>\n",
       "<p>1257 rows × 10000 columns</p>\n",
       "</div>"
      ],
      "text/plain": [
       "            0     1     2     3     4     5     6     7     8     9     ...  \\\n",
       "Date                                                                    ...   \n",
       "2019-09-10  0.01  0.01  0.00  0.00  0.01  0.01  0.01  0.01 -0.00  0.01  ...   \n",
       "2019-09-11  0.02  0.02  0.02  0.02  0.02  0.02  0.02  0.02  0.01  0.02  ...   \n",
       "2019-09-12 -0.00 -0.00  0.00  0.00  0.00  0.00 -0.00  0.00  0.00 -0.00  ...   \n",
       "2019-09-13  0.00  0.00  0.00 -0.00  0.00  0.00  0.00  0.00 -0.00  0.00  ...   \n",
       "2019-09-16 -0.01 -0.01 -0.01 -0.01 -0.01 -0.01 -0.00 -0.01 -0.01 -0.00  ...   \n",
       "...          ...   ...   ...   ...   ...   ...   ...   ...   ...   ...  ...   \n",
       "2024-08-30  0.01  0.01  0.01  0.01  0.01  0.01  0.01  0.01  0.01  0.01  ...   \n",
       "2024-09-03 -0.03 -0.03 -0.02 -0.03 -0.03 -0.02 -0.04 -0.03 -0.02 -0.03  ...   \n",
       "2024-09-04  0.01  0.01  0.01  0.00  0.01  0.00  0.01  0.01  0.00  0.00  ...   \n",
       "2024-09-05  0.01  0.00  0.00 -0.00  0.01  0.00 -0.00  0.00 -0.00 -0.00  ...   \n",
       "2024-09-06 -0.03 -0.02 -0.03 -0.02 -0.03 -0.02 -0.02 -0.02 -0.01 -0.02  ...   \n",
       "\n",
       "            9990  9991  9992  9993  9994  9995  9996  9997  9998  9999  \n",
       "Date                                                                    \n",
       "2019-09-10  0.01  0.00  0.01  0.00  0.01  0.01  0.00  0.01  0.00  0.00  \n",
       "2019-09-11  0.03  0.02  0.01  0.01  0.03  0.02  0.01  0.02  0.02  0.02  \n",
       "2019-09-12 -0.00  0.00  0.00  0.00 -0.00 -0.00  0.00 -0.00  0.00  0.00  \n",
       "2019-09-13  0.00  0.00  0.01  0.00  0.00  0.01  0.00  0.00  0.00 -0.00  \n",
       "2019-09-16 -0.00 -0.01 -0.01 -0.01 -0.01 -0.01 -0.01 -0.01 -0.01 -0.01  \n",
       "...          ...   ...   ...   ...   ...   ...   ...   ...   ...   ...  \n",
       "2024-08-30  0.01  0.01  0.01  0.01  0.02  0.01  0.01  0.01  0.01  0.01  \n",
       "2024-09-03 -0.04 -0.03 -0.03 -0.02 -0.02 -0.03 -0.02 -0.03 -0.02 -0.02  \n",
       "2024-09-04  0.01  0.01  0.00  0.00  0.01  0.01  0.00  0.01  0.01  0.01  \n",
       "2024-09-05  0.01  0.01 -0.00  0.00  0.01  0.01  0.00  0.01  0.00  0.00  \n",
       "2024-09-06 -0.03 -0.03 -0.02 -0.02 -0.04 -0.03 -0.02 -0.03 -0.03 -0.02  \n",
       "\n",
       "[1257 rows x 10000 columns]"
      ]
     },
     "execution_count": 113,
     "metadata": {},
     "output_type": "execute_result"
    }
   ],
   "source": [
    "port_ret= returns.dot(weights.T)\n",
    "port_ret # weighted average simple returns for 10,000 portfolios"
   ]
  },
  {
   "cell_type": "code",
   "execution_count": 115,
   "id": "dfd2644f",
   "metadata": {},
   "outputs": [
    {
     "data": {
      "text/html": [
       "<div>\n",
       "<style scoped>\n",
       "    .dataframe tbody tr th:only-of-type {\n",
       "        vertical-align: middle;\n",
       "    }\n",
       "\n",
       "    .dataframe tbody tr th {\n",
       "        vertical-align: top;\n",
       "    }\n",
       "\n",
       "    .dataframe thead th {\n",
       "        text-align: right;\n",
       "    }\n",
       "</style>\n",
       "<table border=\"1\" class=\"dataframe\">\n",
       "  <thead>\n",
       "    <tr style=\"text-align: right;\">\n",
       "      <th></th>\n",
       "      <th>ann. Risk</th>\n",
       "      <th>CAGR</th>\n",
       "    </tr>\n",
       "  </thead>\n",
       "  <tbody>\n",
       "    <tr>\n",
       "      <th>0</th>\n",
       "      <td>0.28</td>\n",
       "      <td>0.33</td>\n",
       "    </tr>\n",
       "    <tr>\n",
       "      <th>1</th>\n",
       "      <td>0.26</td>\n",
       "      <td>0.24</td>\n",
       "    </tr>\n",
       "    <tr>\n",
       "      <th>2</th>\n",
       "      <td>0.26</td>\n",
       "      <td>0.28</td>\n",
       "    </tr>\n",
       "    <tr>\n",
       "      <th>3</th>\n",
       "      <td>0.25</td>\n",
       "      <td>0.20</td>\n",
       "    </tr>\n",
       "    <tr>\n",
       "      <th>4</th>\n",
       "      <td>0.29</td>\n",
       "      <td>0.29</td>\n",
       "    </tr>\n",
       "    <tr>\n",
       "      <th>...</th>\n",
       "      <td>...</td>\n",
       "      <td>...</td>\n",
       "    </tr>\n",
       "    <tr>\n",
       "      <th>9995</th>\n",
       "      <td>0.31</td>\n",
       "      <td>0.27</td>\n",
       "    </tr>\n",
       "    <tr>\n",
       "      <th>9996</th>\n",
       "      <td>0.25</td>\n",
       "      <td>0.18</td>\n",
       "    </tr>\n",
       "    <tr>\n",
       "      <th>9997</th>\n",
       "      <td>0.28</td>\n",
       "      <td>0.30</td>\n",
       "    </tr>\n",
       "    <tr>\n",
       "      <th>9998</th>\n",
       "      <td>0.28</td>\n",
       "      <td>0.24</td>\n",
       "    </tr>\n",
       "    <tr>\n",
       "      <th>9999</th>\n",
       "      <td>0.25</td>\n",
       "      <td>0.23</td>\n",
       "    </tr>\n",
       "  </tbody>\n",
       "</table>\n",
       "<p>10000 rows × 2 columns</p>\n",
       "</div>"
      ],
      "text/plain": [
       "      ann. Risk  CAGR\n",
       "0          0.28  0.33\n",
       "1          0.26  0.24\n",
       "2          0.26  0.28\n",
       "3          0.25  0.20\n",
       "4          0.29  0.29\n",
       "...         ...   ...\n",
       "9995       0.31  0.27\n",
       "9996       0.25  0.18\n",
       "9997       0.28  0.30\n",
       "9998       0.28  0.24\n",
       "9999       0.25  0.23\n",
       "\n",
       "[10000 rows x 2 columns]"
      ]
     },
     "execution_count": 115,
     "metadata": {},
     "output_type": "execute_result"
    }
   ],
   "source": [
    "port_summary = ann_risk_return(port_ret)\n",
    "port_summary"
   ]
  },
  {
   "cell_type": "code",
   "execution_count": 116,
   "id": "9626d4c9",
   "metadata": {},
   "outputs": [
    {
     "data": {
      "text/html": [
       "<div>\n",
       "<style scoped>\n",
       "    .dataframe tbody tr th:only-of-type {\n",
       "        vertical-align: middle;\n",
       "    }\n",
       "\n",
       "    .dataframe tbody tr th {\n",
       "        vertical-align: top;\n",
       "    }\n",
       "\n",
       "    .dataframe thead th {\n",
       "        text-align: right;\n",
       "    }\n",
       "</style>\n",
       "<table border=\"1\" class=\"dataframe\">\n",
       "  <thead>\n",
       "    <tr style=\"text-align: right;\">\n",
       "      <th></th>\n",
       "      <th>ann. Risk</th>\n",
       "      <th>CAGR</th>\n",
       "    </tr>\n",
       "    <tr>\n",
       "      <th>Ticker</th>\n",
       "      <th></th>\n",
       "      <th></th>\n",
       "    </tr>\n",
       "  </thead>\n",
       "  <tbody>\n",
       "    <tr>\n",
       "      <th>AAPL</th>\n",
       "      <td>0.32</td>\n",
       "      <td>0.33</td>\n",
       "    </tr>\n",
       "    <tr>\n",
       "      <th>BA</th>\n",
       "      <td>0.51</td>\n",
       "      <td>-0.16</td>\n",
       "    </tr>\n",
       "    <tr>\n",
       "      <th>DIS</th>\n",
       "      <td>0.34</td>\n",
       "      <td>-0.08</td>\n",
       "    </tr>\n",
       "    <tr>\n",
       "      <th>GE</th>\n",
       "      <td>0.40</td>\n",
       "      <td>0.29</td>\n",
       "    </tr>\n",
       "    <tr>\n",
       "      <th>JPM</th>\n",
       "      <td>0.32</td>\n",
       "      <td>0.13</td>\n",
       "    </tr>\n",
       "    <tr>\n",
       "      <th>MSFT</th>\n",
       "      <td>0.30</td>\n",
       "      <td>0.24</td>\n",
       "    </tr>\n",
       "    <tr>\n",
       "      <th>TSLA</th>\n",
       "      <td>0.66</td>\n",
       "      <td>0.68</td>\n",
       "    </tr>\n",
       "    <tr>\n",
       "      <th>WMT</th>\n",
       "      <td>0.22</td>\n",
       "      <td>0.15</td>\n",
       "    </tr>\n",
       "  </tbody>\n",
       "</table>\n",
       "</div>"
      ],
      "text/plain": [
       "        ann. Risk  CAGR\n",
       "Ticker                 \n",
       "AAPL         0.32  0.33\n",
       "BA           0.51 -0.16\n",
       "DIS          0.34 -0.08\n",
       "GE           0.40  0.29\n",
       "JPM          0.32  0.13\n",
       "MSFT         0.30  0.24\n",
       "TSLA         0.66  0.68\n",
       "WMT          0.22  0.15"
      ]
     },
     "execution_count": 116,
     "metadata": {},
     "output_type": "execute_result"
    }
   ],
   "source": [
    "summary"
   ]
  },
  {
   "cell_type": "code",
   "execution_count": 117,
   "id": "1acfab74",
   "metadata": {},
   "outputs": [
    {
     "data": {
      "image/png": "[encoded data removed]",
      "text/plain": [
       "<Figure size 1500x900 with 1 Axes>"
      ]
     },
     "metadata": {},
     "output_type": "display_data"
    }
   ],
   "source": [
    "plt.figure(figsize = (15, 9))\n",
    "plt.scatter(port_summary.loc[:, \"ann. Risk\"], port_summary.loc[:, \"CAGR\"],s= 20, color = \"red\")\n",
    "plt.scatter(summary.loc[:, \"ann. Risk\"], summary.loc[:, \"CAGR\"], s= 50, color = \"black\", marker = \"D\")\n",
    "for i in summary.index:\n",
    "    plt.annotate(i, xy=(summary.loc[i, \"ann. Risk\"]+0.01, summary.loc[i, \"CAGR\"]+0.01), size = 15)\n",
    "plt.xlabel(\"ann. Risk (std)\", fontsize = 15)\n",
    "plt.ylabel(\"CAGR\", fontsize = 15)\n",
    "plt.title(\"Risk/Return\", fontsize = 20)\n",
    "plt.show()"
   ]
  },
  {
   "cell_type": "code",
   "execution_count": null,
   "id": "04fa4899",
   "metadata": {},
   "outputs": [],
   "source": []
  },
  {
   "cell_type": "markdown",
   "id": "43e8584b",
   "metadata": {},
   "source": [
    "## Performance Measurement: Risk-adjusted Return"
   ]
  },
  {
   "cell_type": "markdown",
   "id": "8f3dcd53",
   "metadata": {},
   "source": [
    "__Risk-adjusted-Return (RaR): CAGR per unit of Risk. (similar to Sharpe Ratio)__"
   ]
  },
  {
   "cell_type": "code",
   "execution_count": 124,
   "id": "96508313",
   "metadata": {},
   "outputs": [
    {
     "data": {
      "text/html": [
       "<div>\n",
       "<style scoped>\n",
       "    .dataframe tbody tr th:only-of-type {\n",
       "        vertical-align: middle;\n",
       "    }\n",
       "\n",
       "    .dataframe tbody tr th {\n",
       "        vertical-align: top;\n",
       "    }\n",
       "\n",
       "    .dataframe thead th {\n",
       "        text-align: right;\n",
       "    }\n",
       "</style>\n",
       "<table border=\"1\" class=\"dataframe\">\n",
       "  <thead>\n",
       "    <tr style=\"text-align: right;\">\n",
       "      <th></th>\n",
       "      <th>ann. Risk</th>\n",
       "      <th>CAGR</th>\n",
       "      <th>RaR</th>\n",
       "    </tr>\n",
       "    <tr>\n",
       "      <th>Ticker</th>\n",
       "      <th></th>\n",
       "      <th></th>\n",
       "      <th></th>\n",
       "    </tr>\n",
       "  </thead>\n",
       "  <tbody>\n",
       "    <tr>\n",
       "      <th>AAPL</th>\n",
       "      <td>0.32</td>\n",
       "      <td>0.33</td>\n",
       "      <td>1.03</td>\n",
       "    </tr>\n",
       "    <tr>\n",
       "      <th>BA</th>\n",
       "      <td>0.51</td>\n",
       "      <td>-0.16</td>\n",
       "      <td>-0.31</td>\n",
       "    </tr>\n",
       "    <tr>\n",
       "      <th>DIS</th>\n",
       "      <td>0.34</td>\n",
       "      <td>-0.08</td>\n",
       "      <td>-0.25</td>\n",
       "    </tr>\n",
       "    <tr>\n",
       "      <th>GE</th>\n",
       "      <td>0.40</td>\n",
       "      <td>0.29</td>\n",
       "      <td>0.73</td>\n",
       "    </tr>\n",
       "    <tr>\n",
       "      <th>JPM</th>\n",
       "      <td>0.32</td>\n",
       "      <td>0.13</td>\n",
       "      <td>0.40</td>\n",
       "    </tr>\n",
       "    <tr>\n",
       "      <th>MSFT</th>\n",
       "      <td>0.30</td>\n",
       "      <td>0.24</td>\n",
       "      <td>0.80</td>\n",
       "    </tr>\n",
       "    <tr>\n",
       "      <th>TSLA</th>\n",
       "      <td>0.66</td>\n",
       "      <td>0.68</td>\n",
       "      <td>1.04</td>\n",
       "    </tr>\n",
       "    <tr>\n",
       "      <th>WMT</th>\n",
       "      <td>0.22</td>\n",
       "      <td>0.15</td>\n",
       "      <td>0.66</td>\n",
       "    </tr>\n",
       "  </tbody>\n",
       "</table>\n",
       "</div>"
      ],
      "text/plain": [
       "        ann. Risk  CAGR   RaR\n",
       "Ticker                       \n",
       "AAPL         0.32  0.33  1.03\n",
       "BA           0.51 -0.16 -0.31\n",
       "DIS          0.34 -0.08 -0.25\n",
       "GE           0.40  0.29  0.73\n",
       "JPM          0.32  0.13  0.40\n",
       "MSFT         0.30  0.24  0.80\n",
       "TSLA         0.66  0.68  1.04\n",
       "WMT          0.22  0.15  0.66"
      ]
     },
     "execution_count": 124,
     "metadata": {},
     "output_type": "execute_result"
    }
   ],
   "source": [
    "summary[\"RaR\"] = summary[\"CAGR\"].div(summary[\"ann. Risk\"])\n",
    "summary"
   ]
  },
  {
   "cell_type": "code",
   "execution_count": 126,
   "id": "7123acbe",
   "metadata": {},
   "outputs": [
    {
     "data": {
      "text/html": [
       "<div>\n",
       "<style scoped>\n",
       "    .dataframe tbody tr th:only-of-type {\n",
       "        vertical-align: middle;\n",
       "    }\n",
       "\n",
       "    .dataframe tbody tr th {\n",
       "        vertical-align: top;\n",
       "    }\n",
       "\n",
       "    .dataframe thead th {\n",
       "        text-align: right;\n",
       "    }\n",
       "</style>\n",
       "<table border=\"1\" class=\"dataframe\">\n",
       "  <thead>\n",
       "    <tr style=\"text-align: right;\">\n",
       "      <th></th>\n",
       "      <th>ann. Risk</th>\n",
       "      <th>CAGR</th>\n",
       "      <th>RaR</th>\n",
       "    </tr>\n",
       "  </thead>\n",
       "  <tbody>\n",
       "    <tr>\n",
       "      <th>0</th>\n",
       "      <td>0.28</td>\n",
       "      <td>0.33</td>\n",
       "      <td>1.18</td>\n",
       "    </tr>\n",
       "    <tr>\n",
       "      <th>1</th>\n",
       "      <td>0.26</td>\n",
       "      <td>0.24</td>\n",
       "      <td>0.93</td>\n",
       "    </tr>\n",
       "    <tr>\n",
       "      <th>2</th>\n",
       "      <td>0.26</td>\n",
       "      <td>0.28</td>\n",
       "      <td>1.05</td>\n",
       "    </tr>\n",
       "    <tr>\n",
       "      <th>3</th>\n",
       "      <td>0.25</td>\n",
       "      <td>0.20</td>\n",
       "      <td>0.80</td>\n",
       "    </tr>\n",
       "    <tr>\n",
       "      <th>4</th>\n",
       "      <td>0.29</td>\n",
       "      <td>0.29</td>\n",
       "      <td>1.00</td>\n",
       "    </tr>\n",
       "    <tr>\n",
       "      <th>...</th>\n",
       "      <td>...</td>\n",
       "      <td>...</td>\n",
       "      <td>...</td>\n",
       "    </tr>\n",
       "    <tr>\n",
       "      <th>9995</th>\n",
       "      <td>0.31</td>\n",
       "      <td>0.27</td>\n",
       "      <td>0.88</td>\n",
       "    </tr>\n",
       "    <tr>\n",
       "      <th>9996</th>\n",
       "      <td>0.25</td>\n",
       "      <td>0.18</td>\n",
       "      <td>0.70</td>\n",
       "    </tr>\n",
       "    <tr>\n",
       "      <th>9997</th>\n",
       "      <td>0.28</td>\n",
       "      <td>0.30</td>\n",
       "      <td>1.07</td>\n",
       "    </tr>\n",
       "    <tr>\n",
       "      <th>9998</th>\n",
       "      <td>0.28</td>\n",
       "      <td>0.24</td>\n",
       "      <td>0.86</td>\n",
       "    </tr>\n",
       "    <tr>\n",
       "      <th>9999</th>\n",
       "      <td>0.25</td>\n",
       "      <td>0.23</td>\n",
       "      <td>0.92</td>\n",
       "    </tr>\n",
       "  </tbody>\n",
       "</table>\n",
       "<p>10000 rows × 3 columns</p>\n",
       "</div>"
      ],
      "text/plain": [
       "      ann. Risk  CAGR  RaR\n",
       "0          0.28  0.33 1.18\n",
       "1          0.26  0.24 0.93\n",
       "2          0.26  0.28 1.05\n",
       "3          0.25  0.20 0.80\n",
       "4          0.29  0.29 1.00\n",
       "...         ...   ...  ...\n",
       "9995       0.31  0.27 0.88\n",
       "9996       0.25  0.18 0.70\n",
       "9997       0.28  0.30 1.07\n",
       "9998       0.28  0.24 0.86\n",
       "9999       0.25  0.23 0.92\n",
       "\n",
       "[10000 rows x 3 columns]"
      ]
     },
     "execution_count": 126,
     "metadata": {},
     "output_type": "execute_result"
    }
   ],
   "source": [
    "port_summary[\"RaR\"] = port_summary[\"CAGR\"].div(port_summary[\"ann. Risk\"])\n",
    "port_summary"
   ]
  },
  {
   "cell_type": "code",
   "execution_count": 271,
   "id": "a0f1f54b",
   "metadata": {
    "scrolled": true
   },
   "outputs": [
    {
     "data": {
      "text/html": [
       "<div>\n",
       "<style scoped>\n",
       "    .dataframe tbody tr th:only-of-type {\n",
       "        vertical-align: middle;\n",
       "    }\n",
       "\n",
       "    .dataframe tbody tr th {\n",
       "        vertical-align: top;\n",
       "    }\n",
       "\n",
       "    .dataframe thead th {\n",
       "        text-align: right;\n",
       "    }\n",
       "</style>\n",
       "<table border=\"1\" class=\"dataframe\">\n",
       "  <thead>\n",
       "    <tr style=\"text-align: right;\">\n",
       "      <th></th>\n",
       "      <th>ann. Risk</th>\n",
       "      <th>CAGR</th>\n",
       "      <th>RaR</th>\n",
       "    </tr>\n",
       "  </thead>\n",
       "  <tbody>\n",
       "    <tr>\n",
       "      <th>1451</th>\n",
       "      <td>0.3074</td>\n",
       "      <td>0.0375</td>\n",
       "      <td>0.1219</td>\n",
       "    </tr>\n",
       "    <tr>\n",
       "      <th>485</th>\n",
       "      <td>0.2703</td>\n",
       "      <td>0.0492</td>\n",
       "      <td>0.1821</td>\n",
       "    </tr>\n",
       "    <tr>\n",
       "      <th>9056</th>\n",
       "      <td>0.3125</td>\n",
       "      <td>0.0601</td>\n",
       "      <td>0.1924</td>\n",
       "    </tr>\n",
       "    <tr>\n",
       "      <th>6396</th>\n",
       "      <td>0.2994</td>\n",
       "      <td>0.0624</td>\n",
       "      <td>0.2084</td>\n",
       "    </tr>\n",
       "    <tr>\n",
       "      <th>4707</th>\n",
       "      <td>0.2907</td>\n",
       "      <td>0.0620</td>\n",
       "      <td>0.2131</td>\n",
       "    </tr>\n",
       "    <tr>\n",
       "      <th>...</th>\n",
       "      <td>...</td>\n",
       "      <td>...</td>\n",
       "      <td>...</td>\n",
       "    </tr>\n",
       "    <tr>\n",
       "      <th>9879</th>\n",
       "      <td>0.2779</td>\n",
       "      <td>0.3837</td>\n",
       "      <td>1.3809</td>\n",
       "    </tr>\n",
       "    <tr>\n",
       "      <th>4080</th>\n",
       "      <td>0.2793</td>\n",
       "      <td>0.3865</td>\n",
       "      <td>1.3840</td>\n",
       "    </tr>\n",
       "    <tr>\n",
       "      <th>912</th>\n",
       "      <td>0.2616</td>\n",
       "      <td>0.3639</td>\n",
       "      <td>1.3907</td>\n",
       "    </tr>\n",
       "    <tr>\n",
       "      <th>8674</th>\n",
       "      <td>0.2907</td>\n",
       "      <td>0.4046</td>\n",
       "      <td>1.3917</td>\n",
       "    </tr>\n",
       "    <tr>\n",
       "      <th>35</th>\n",
       "      <td>0.2759</td>\n",
       "      <td>0.3854</td>\n",
       "      <td>1.3971</td>\n",
       "    </tr>\n",
       "  </tbody>\n",
       "</table>\n",
       "<p>10000 rows × 3 columns</p>\n",
       "</div>"
      ],
      "text/plain": [
       "      ann. Risk   CAGR    RaR\n",
       "1451     0.3074 0.0375 0.1219\n",
       "485      0.2703 0.0492 0.1821\n",
       "9056     0.3125 0.0601 0.1924\n",
       "6396     0.2994 0.0624 0.2084\n",
       "4707     0.2907 0.0620 0.2131\n",
       "...         ...    ...    ...\n",
       "9879     0.2779 0.3837 1.3809\n",
       "4080     0.2793 0.3865 1.3840\n",
       "912      0.2616 0.3639 1.3907\n",
       "8674     0.2907 0.4046 1.3917\n",
       "35       0.2759 0.3854 1.3971\n",
       "\n",
       "[10000 rows x 3 columns]"
      ]
     },
     "execution_count": 271,
     "metadata": {},
     "output_type": "execute_result"
    }
   ],
   "source": [
    "port_summary.sort_values(\"RaR\")"
   ]
  },
  {
   "cell_type": "code",
   "execution_count": 273,
   "id": "de196d1f",
   "metadata": {},
   "outputs": [
    {
     "data": {
      "text/plain": [
       "0.12187031875877764"
      ]
     },
     "execution_count": 273,
     "metadata": {},
     "output_type": "execute_result"
    }
   ],
   "source": [
    "vmin = port_summary.RaR.min()\n",
    "vmin"
   ]
  },
  {
   "cell_type": "code",
   "execution_count": 275,
   "id": "aa50d75b",
   "metadata": {},
   "outputs": [
    {
     "data": {
      "text/plain": [
       "1.3971406705301126"
      ]
     },
     "execution_count": 275,
     "metadata": {},
     "output_type": "execute_result"
    }
   ],
   "source": [
    "vmax = port_summary.RaR.max()\n",
    "vmax"
   ]
  },
  {
   "cell_type": "code",
   "execution_count": null,
   "id": "69b27f3f-3f3a-4183-b582-5e477bab9f86",
   "metadata": {},
   "outputs": [],
   "source": []
  },
  {
   "cell_type": "code",
   "execution_count": 134,
   "id": "4e78ea87",
   "metadata": {},
   "outputs": [
    {
     "data": {
      "image/png": "[encoded data removed]",
      "text/plain": [
       "<Figure size 1500x800 with 2 Axes>"
      ]
     },
     "metadata": {},
     "output_type": "display_data"
    }
   ],
   "source": [
    "plt.figure(figsize = (15, 8))\n",
    "plt.scatter(port_summary.loc[:, \"ann. Risk\"], port_summary.loc[:, \"CAGR\"], s= 20, \n",
    "            c = port_summary.loc[:, \"RaR\"], cmap = \"coolwarm\", vmin = vmin, vmax = vmax, alpha = 0.66)\n",
    "plt.colorbar()\n",
    "plt.scatter(summary.loc[:, \"ann. Risk\"], summary.loc[:, \"CAGR\"],s= 50, marker = \"D\", c = \"black\")\n",
    "for i in summary.index:\n",
    "    plt.annotate(i, xy=(summary.loc[i, \"ann. Risk\"]+0.01, summary.loc[i, \"CAGR\"]+0.01), size = 15)\n",
    "plt.xlabel(\"ann. Risk (std)\", fontsize = 15)\n",
    "plt.ylabel(\"CAGR\", fontsize = 15)\n",
    "plt.title(\"Risk-adjusted Return\", fontsize = 20)\n",
    "plt.show()"
   ]
  },
  {
   "cell_type": "code",
   "execution_count": null,
   "id": "87046090",
   "metadata": {},
   "outputs": [],
   "source": []
  },
  {
   "cell_type": "markdown",
   "id": "471cd147",
   "metadata": {},
   "source": [
    "## Portfolio Optimization"
   ]
  },
  {
   "cell_type": "markdown",
   "id": "7af64c71",
   "metadata": {},
   "source": [
    "__Note: We are optimizing the past here (backward looking)!__"
   ]
  },
  {
   "cell_type": "code",
   "execution_count": 139,
   "id": "d763723a",
   "metadata": {},
   "outputs": [],
   "source": [
    "import scipy.optimize as sco\n",
    "pd.options.display.float_format = '{:.4f}'.format\n",
    "np.set_printoptions(suppress = True)"
   ]
  },
  {
   "cell_type": "code",
   "execution_count": 140,
   "id": "7d1ffb02",
   "metadata": {},
   "outputs": [
    {
     "data": {
      "text/html": [
       "<div>\n",
       "<style scoped>\n",
       "    .dataframe tbody tr th:only-of-type {\n",
       "        vertical-align: middle;\n",
       "    }\n",
       "\n",
       "    .dataframe tbody tr th {\n",
       "        vertical-align: top;\n",
       "    }\n",
       "\n",
       "    .dataframe thead th {\n",
       "        text-align: right;\n",
       "    }\n",
       "</style>\n",
       "<table border=\"1\" class=\"dataframe\">\n",
       "  <thead>\n",
       "    <tr style=\"text-align: right;\">\n",
       "      <th>Ticker</th>\n",
       "      <th>AAPL</th>\n",
       "      <th>BA</th>\n",
       "      <th>DIS</th>\n",
       "      <th>GE</th>\n",
       "      <th>JPM</th>\n",
       "      <th>MSFT</th>\n",
       "      <th>TSLA</th>\n",
       "      <th>WMT</th>\n",
       "    </tr>\n",
       "    <tr>\n",
       "      <th>Date</th>\n",
       "      <th></th>\n",
       "      <th></th>\n",
       "      <th></th>\n",
       "      <th></th>\n",
       "      <th></th>\n",
       "      <th></th>\n",
       "      <th></th>\n",
       "      <th></th>\n",
       "    </tr>\n",
       "  </thead>\n",
       "  <tbody>\n",
       "    <tr>\n",
       "      <th>2019-09-10</th>\n",
       "      <td>0.0118</td>\n",
       "      <td>0.0299</td>\n",
       "      <td>-0.0219</td>\n",
       "      <td>0.0201</td>\n",
       "      <td>0.0127</td>\n",
       "      <td>-0.0105</td>\n",
       "      <td>0.0162</td>\n",
       "      <td>-0.0024</td>\n",
       "    </tr>\n",
       "    <tr>\n",
       "      <th>2019-09-11</th>\n",
       "      <td>0.0318</td>\n",
       "      <td>0.0364</td>\n",
       "      <td>0.0029</td>\n",
       "      <td>0.0241</td>\n",
       "      <td>0.0027</td>\n",
       "      <td>0.0003</td>\n",
       "      <td>0.0491</td>\n",
       "      <td>-0.0003</td>\n",
       "    </tr>\n",
       "    <tr>\n",
       "      <th>2019-09-12</th>\n",
       "      <td>-0.0022</td>\n",
       "      <td>-0.0191</td>\n",
       "      <td>0.0096</td>\n",
       "      <td>-0.0107</td>\n",
       "      <td>0.0061</td>\n",
       "      <td>0.0103</td>\n",
       "      <td>-0.0050</td>\n",
       "      <td>0.0078</td>\n",
       "    </tr>\n",
       "    <tr>\n",
       "      <th>2019-09-13</th>\n",
       "      <td>-0.0195</td>\n",
       "      <td>0.0110</td>\n",
       "      <td>0.0038</td>\n",
       "      <td>0.0086</td>\n",
       "      <td>0.0197</td>\n",
       "      <td>-0.0015</td>\n",
       "      <td>-0.0027</td>\n",
       "      <td>0.0044</td>\n",
       "    </tr>\n",
       "    <tr>\n",
       "      <th>2019-09-16</th>\n",
       "      <td>0.0053</td>\n",
       "      <td>-0.0024</td>\n",
       "      <td>-0.0161</td>\n",
       "      <td>0.0043</td>\n",
       "      <td>-0.0089</td>\n",
       "      <td>-0.0072</td>\n",
       "      <td>-0.0097</td>\n",
       "      <td>-0.0158</td>\n",
       "    </tr>\n",
       "    <tr>\n",
       "      <th>...</th>\n",
       "      <td>...</td>\n",
       "      <td>...</td>\n",
       "      <td>...</td>\n",
       "      <td>...</td>\n",
       "      <td>...</td>\n",
       "      <td>...</td>\n",
       "      <td>...</td>\n",
       "      <td>...</td>\n",
       "    </tr>\n",
       "    <tr>\n",
       "      <th>2024-08-30</th>\n",
       "      <td>-0.0034</td>\n",
       "      <td>0.0086</td>\n",
       "      <td>0.0063</td>\n",
       "      <td>0.0060</td>\n",
       "      <td>0.0117</td>\n",
       "      <td>0.0097</td>\n",
       "      <td>0.0380</td>\n",
       "      <td>0.0106</td>\n",
       "    </tr>\n",
       "    <tr>\n",
       "      <th>2024-09-03</th>\n",
       "      <td>-0.0272</td>\n",
       "      <td>-0.0732</td>\n",
       "      <td>-0.0138</td>\n",
       "      <td>-0.0596</td>\n",
       "      <td>-0.0200</td>\n",
       "      <td>-0.0185</td>\n",
       "      <td>-0.0164</td>\n",
       "      <td>-0.0008</td>\n",
       "    </tr>\n",
       "    <tr>\n",
       "      <th>2024-09-04</th>\n",
       "      <td>-0.0086</td>\n",
       "      <td>0.0137</td>\n",
       "      <td>0.0013</td>\n",
       "      <td>0.0131</td>\n",
       "      <td>-0.0044</td>\n",
       "      <td>-0.0013</td>\n",
       "      <td>0.0418</td>\n",
       "      <td>0.0009</td>\n",
       "    </tr>\n",
       "    <tr>\n",
       "      <th>2024-09-05</th>\n",
       "      <td>0.0069</td>\n",
       "      <td>-0.0066</td>\n",
       "      <td>-0.0067</td>\n",
       "      <td>-0.0151</td>\n",
       "      <td>-0.0078</td>\n",
       "      <td>-0.0012</td>\n",
       "      <td>0.0490</td>\n",
       "      <td>-0.0036</td>\n",
       "    </tr>\n",
       "    <tr>\n",
       "      <th>2024-09-06</th>\n",
       "      <td>-0.0070</td>\n",
       "      <td>-0.0279</td>\n",
       "      <td>-0.0080</td>\n",
       "      <td>-0.0160</td>\n",
       "      <td>-0.0238</td>\n",
       "      <td>-0.0164</td>\n",
       "      <td>-0.0845</td>\n",
       "      <td>-0.0042</td>\n",
       "    </tr>\n",
       "  </tbody>\n",
       "</table>\n",
       "<p>1257 rows × 8 columns</p>\n",
       "</div>"
      ],
      "text/plain": [
       "Ticker        AAPL      BA     DIS      GE     JPM    MSFT    TSLA     WMT\n",
       "Date                                                                      \n",
       "2019-09-10  0.0118  0.0299 -0.0219  0.0201  0.0127 -0.0105  0.0162 -0.0024\n",
       "2019-09-11  0.0318  0.0364  0.0029  0.0241  0.0027  0.0003  0.0491 -0.0003\n",
       "2019-09-12 -0.0022 -0.0191  0.0096 -0.0107  0.0061  0.0103 -0.0050  0.0078\n",
       "2019-09-13 -0.0195  0.0110  0.0038  0.0086  0.0197 -0.0015 -0.0027  0.0044\n",
       "2019-09-16  0.0053 -0.0024 -0.0161  0.0043 -0.0089 -0.0072 -0.0097 -0.0158\n",
       "...            ...     ...     ...     ...     ...     ...     ...     ...\n",
       "2024-08-30 -0.0034  0.0086  0.0063  0.0060  0.0117  0.0097  0.0380  0.0106\n",
       "2024-09-03 -0.0272 -0.0732 -0.0138 -0.0596 -0.0200 -0.0185 -0.0164 -0.0008\n",
       "2024-09-04 -0.0086  0.0137  0.0013  0.0131 -0.0044 -0.0013  0.0418  0.0009\n",
       "2024-09-05  0.0069 -0.0066 -0.0067 -0.0151 -0.0078 -0.0012  0.0490 -0.0036\n",
       "2024-09-06 -0.0070 -0.0279 -0.0080 -0.0160 -0.0238 -0.0164 -0.0845 -0.0042\n",
       "\n",
       "[1257 rows x 8 columns]"
      ]
     },
     "execution_count": 140,
     "metadata": {},
     "output_type": "execute_result"
    }
   ],
   "source": [
    "returns "
   ]
  },
  {
   "cell_type": "code",
   "execution_count": 141,
   "id": "1fee61e4",
   "metadata": {},
   "outputs": [],
   "source": [
    "#calculate portfolio CAGR (based on weights)\n",
    "def port_ret(weights):\n",
    "    simple_ret = returns.dot(weights.T)\n",
    "    log_returns = np.log(simple_ret + 1)\n",
    "    cagr = np.exp(log_returns.mean() * 252) - 1\n",
    "    return cagr"
   ]
  },
  {
   "cell_type": "code",
   "execution_count": 142,
   "id": "bf327913",
   "metadata": {},
   "outputs": [],
   "source": [
    "#calculate annualized portfolio volatility (based on weights)\n",
    "def port_vol(weights):\n",
    "    simple_ret = returns.dot(weights.T)\n",
    "    return simple_ret.std() * np.sqrt(252)"
   ]
  },
  {
   "cell_type": "code",
   "execution_count": 147,
   "id": "43913eb3",
   "metadata": {},
   "outputs": [],
   "source": [
    "#define function to be minimized (sco only supports minimize, not maximize)\n",
    "#-> maximize RaR == minimize RaR * (-1)\n",
    "def min_func_RaR(weights): \n",
    "     return -(port_ret(weights)) / port_vol(weights) #Risk-adjusted Return * (-1)"
   ]
  },
  {
   "cell_type": "code",
   "execution_count": 149,
   "id": "70be4a51",
   "metadata": {},
   "outputs": [
    {
     "data": {
      "text/plain": [
       "8"
      ]
     },
     "execution_count": 149,
     "metadata": {},
     "output_type": "execute_result"
    }
   ],
   "source": [
    "#number of assets\n",
    "noa = len(returns.columns)\n",
    "noa"
   ]
  },
  {
   "cell_type": "code",
   "execution_count": 151,
   "id": "6626b185",
   "metadata": {},
   "outputs": [
    {
     "data": {
      "text/plain": [
       "array([0.125, 0.125, 0.125, 0.125, 0.125, 0.125, 0.125, 0.125])"
      ]
     },
     "execution_count": 151,
     "metadata": {},
     "output_type": "execute_result"
    }
   ],
   "source": [
    "#equal weights (starting point of optimization)\n",
    "eweigths = np.full(noa, 1/noa)\n",
    "eweigths"
   ]
  },
  {
   "cell_type": "code",
   "execution_count": 153,
   "id": "062303e5",
   "metadata": {},
   "outputs": [],
   "source": [
    "#constraint: weights must sum up to 1 -> sum of weights - 1 = 0\n",
    "cons = ({\"type\": \"eq\", \"fun\": lambda x: np.sum(x) - 1})\n",
    "\n"
   ]
  },
  {
   "cell_type": "code",
   "execution_count": 155,
   "id": "10028f35",
   "metadata": {},
   "outputs": [
    {
     "data": {
      "text/plain": [
       "((0, 1), (0, 1), (0, 1), (0, 1), (0, 1), (0, 1), (0, 1), (0, 1))"
      ]
     },
     "execution_count": 155,
     "metadata": {},
     "output_type": "execute_result"
    }
   ],
   "source": [
    "#bounds: all weights shall be between 0 and 1 -> can be changed\n",
    "bnds =  tuple((0, 1) for x in range(noa))\n",
    "bnds"
   ]
  },
  {
   "cell_type": "code",
   "execution_count": 157,
   "id": "f78b75ef",
   "metadata": {},
   "outputs": [],
   "source": [
    "#run optimization based on function to be minimized, starting with equal weights and based on respective bounds and constraints\n",
    "opts = sco.minimize(min_func_RaR, eweigths, method = \"SLSQP\", bounds = bnds, constraints= cons)"
   ]
  },
  {
   "cell_type": "code",
   "execution_count": 158,
   "id": "d04599ba",
   "metadata": {},
   "outputs": [
    {
     "data": {
      "text/plain": [
       " message: Optimization terminated successfully\n",
       " success: True\n",
       "  status: 0\n",
       "     fun: -1.493740616206789\n",
       "       x: [ 2.147e-01  0.000e+00  5.141e-16  2.288e-01  0.000e+00\n",
       "            9.629e-18  2.432e-01  3.132e-01]\n",
       "     nit: 9\n",
       "     jac: [-7.451e-02  2.061e+00  1.394e+00 -7.489e-02  2.896e-01\n",
       "            5.783e-02 -7.396e-02 -7.481e-02]\n",
       "    nfev: 84\n",
       "    njev: 9"
      ]
     },
     "execution_count": 158,
     "metadata": {},
     "output_type": "execute_result"
    }
   ],
   "source": [
    "#output of optimization\n",
    "opts"
   ]
  },
  {
   "cell_type": "code",
   "execution_count": 160,
   "id": "ec2c9604",
   "metadata": {
    "scrolled": true
   },
   "outputs": [
    {
     "data": {
      "text/plain": [
       "array([0.21469287, 0.        , 0.        , 0.22881827, 0.        ,\n",
       "       0.        , 0.24324262, 0.31324624])"
      ]
     },
     "execution_count": 160,
     "metadata": {},
     "output_type": "execute_result"
    }
   ],
   "source": [
    "#getting the optimal weights\n",
    "optimal_weights = opts[\"x\"]\n",
    "optimal_weights"
   ]
  },
  {
   "cell_type": "code",
   "execution_count": 163,
   "id": "94a271c3",
   "metadata": {
    "scrolled": true
   },
   "outputs": [
    {
     "data": {
      "text/plain": [
       "Ticker\n",
       "WMT    0.3132\n",
       "TSLA   0.2432\n",
       "GE     0.2288\n",
       "AAPL   0.2147\n",
       "DIS    0.0000\n",
       "MSFT   0.0000\n",
       "BA     0.0000\n",
       "JPM    0.0000\n",
       "dtype: float64"
      ]
     },
     "execution_count": 163,
     "metadata": {},
     "output_type": "execute_result"
    }
   ],
   "source": [
    "pd.Series(data = optimal_weights, index = returns.columns).sort_values(ascending = False).head(20)"
   ]
  },
  {
   "cell_type": "code",
   "execution_count": 165,
   "id": "d3cae57b",
   "metadata": {},
   "outputs": [
    {
     "data": {
      "text/plain": [
       "0.4074688762149039"
      ]
     },
     "execution_count": 165,
     "metadata": {},
     "output_type": "execute_result"
    }
   ],
   "source": [
    "#cagr of the optimal portfolio\n",
    "cagr_opt = port_ret(optimal_weights)\n",
    "cagr_opt"
   ]
  },
  {
   "cell_type": "code",
   "execution_count": 167,
   "id": "139c06bb",
   "metadata": {},
   "outputs": [
    {
     "data": {
      "text/plain": [
       "0.27278422491425053"
      ]
     },
     "execution_count": 167,
     "metadata": {},
     "output_type": "execute_result"
    }
   ],
   "source": [
    "#volatility of the optimal portfolio\n",
    "vol_opt = port_vol(optimal_weights)\n",
    "vol_opt"
   ]
  },
  {
   "cell_type": "code",
   "execution_count": 168,
   "id": "efe127cd",
   "metadata": {},
   "outputs": [
    {
     "data": {
      "text/plain": [
       "1.493740616206789"
      ]
     },
     "execution_count": 168,
     "metadata": {},
     "output_type": "execute_result"
    }
   ],
   "source": [
    "#RaR of the optimal portfolio\n",
    "RaR_opt = -min_func_RaR(optimal_weights)\n",
    "RaR_opt"
   ]
  },
  {
   "cell_type": "code",
   "execution_count": 171,
   "id": "a6ac631c",
   "metadata": {},
   "outputs": [
    {
     "data": {
      "image/png": "[encoded data removed]",
      "text/plain": [
       "<Figure size 1500x800 with 2 Axes>"
      ]
     },
     "metadata": {},
     "output_type": "display_data"
    }
   ],
   "source": [
    "plt.figure(figsize = (15, 8))\n",
    "plt.scatter(port_summary.loc[:, \"ann. Risk\"], port_summary.loc[:, \"CAGR\"], s= 20, \n",
    "            c = port_summary.loc[:, \"RaR\"], cmap = \"coolwarm\", vmin = vmin, vmax = vmax, alpha = 0.66)\n",
    "plt.colorbar()\n",
    "plt.scatter(summary.loc[:, \"ann. Risk\"], summary.loc[:, \"CAGR\"],s= 50, marker = \"D\", c = \"black\")\n",
    "for i in summary.index:\n",
    "    plt.annotate(i, xy=(summary.loc[i, \"ann. Risk\"]+0.01, summary.loc[i, \"CAGR\"]+0.01), size = 15)\n",
    "plt.scatter(x = vol_opt, y = cagr_opt, s = 100, marker = \"X\", c = \"purple\") # best Portfolio\n",
    "plt.xlabel(\"ann. Risk (std)\", fontsize = 15)\n",
    "plt.ylabel(\"CAGR\", fontsize = 15)\n",
    "plt.title(\"The optimal Portfolio\", fontsize = 20)\n",
    "plt.show()"
   ]
  },
  {
   "cell_type": "markdown",
   "id": "9433b8c6",
   "metadata": {},
   "source": []
  },
  {
   "cell_type": "code",
   "execution_count": null,
   "id": "564f0a6f",
   "metadata": {},
   "outputs": [],
   "source": []
  },
  {
   "cell_type": "markdown",
   "id": "d2fdf2c7",
   "metadata": {},
   "source": [
    "## Minimum Variance Portfolio"
   ]
  },
  {
   "cell_type": "markdown",
   "id": "c532f27c",
   "metadata": {},
   "source": [
    "(use code above with following replacements:)"
   ]
  },
  {
   "cell_type": "code",
   "execution_count": 177,
   "id": "b16983fb",
   "metadata": {},
   "outputs": [],
   "source": [
    "# Minimum Variance Portfolio\n",
    "opts = sco.minimize(port_vol, eweigths, method = \"SLSQP\", bounds = bnds, constraints= cons)"
   ]
  },
  {
   "cell_type": "code",
   "execution_count": null,
   "id": "49058412",
   "metadata": {},
   "outputs": [],
   "source": []
  },
  {
   "cell_type": "markdown",
   "id": "db3d6539",
   "metadata": {},
   "source": [
    "## Maximum Return Portfolio"
   ]
  },
  {
   "cell_type": "markdown",
   "id": "ebae188d",
   "metadata": {},
   "source": [
    "(use code above with following replacements:)"
   ]
  },
  {
   "cell_type": "code",
   "execution_count": 182,
   "id": "62e426c2",
   "metadata": {},
   "outputs": [],
   "source": [
    "#calculate portfolio CAGR (based on weights)\n",
    "def port_ret(weights):\n",
    "    simple_ret = returns.dot(weights.T)\n",
    "    log_returns = np.log(simple_ret + 1)\n",
    "    cagr = np.exp(log_returns.mean() * 252) - 1\n",
    "    return cagr * (-1)"
   ]
  },
  {
   "cell_type": "code",
   "execution_count": 184,
   "id": "10ba18a3",
   "metadata": {},
   "outputs": [],
   "source": [
    "# Maximum Return Portfolio\n",
    "opts = sco.minimize(port_ret, eweigths, method = \"SLSQP\", bounds = bnds, constraints= cons)"
   ]
  },
  {
   "cell_type": "code",
   "execution_count": 186,
   "id": "4e7a9e55",
   "metadata": {},
   "outputs": [
    {
     "data": {
      "text/plain": [
       "0.4074688762149039"
      ]
     },
     "execution_count": 186,
     "metadata": {},
     "output_type": "execute_result"
    }
   ],
   "source": [
    "#cagr of the optimal portfolio\n",
    "cagr_opt = -port_ret(optimal_weights)\n",
    "cagr_opt"
   ]
  },
  {
   "cell_type": "code",
   "execution_count": null,
   "id": "f4d15804",
   "metadata": {},
   "outputs": [],
   "source": []
  },
  {
   "cell_type": "markdown",
   "id": "13cfbafd",
   "metadata": {},
   "source": [
    "## The Efficient Frontier"
   ]
  },
  {
   "cell_type": "markdown",
   "id": "e9fc6178",
   "metadata": {},
   "source": [
    "__Idea: Find for each return level the portfolio with the lowest volatility.__"
   ]
  },
  {
   "cell_type": "code",
   "execution_count": 191,
   "id": "b3998328",
   "metadata": {},
   "outputs": [
    {
     "data": {
      "text/html": [
       "<div>\n",
       "<style scoped>\n",
       "    .dataframe tbody tr th:only-of-type {\n",
       "        vertical-align: middle;\n",
       "    }\n",
       "\n",
       "    .dataframe tbody tr th {\n",
       "        vertical-align: top;\n",
       "    }\n",
       "\n",
       "    .dataframe thead th {\n",
       "        text-align: right;\n",
       "    }\n",
       "</style>\n",
       "<table border=\"1\" class=\"dataframe\">\n",
       "  <thead>\n",
       "    <tr style=\"text-align: right;\">\n",
       "      <th>Ticker</th>\n",
       "      <th>AAPL</th>\n",
       "      <th>BA</th>\n",
       "      <th>DIS</th>\n",
       "      <th>GE</th>\n",
       "      <th>JPM</th>\n",
       "      <th>MSFT</th>\n",
       "      <th>TSLA</th>\n",
       "      <th>WMT</th>\n",
       "    </tr>\n",
       "    <tr>\n",
       "      <th>Date</th>\n",
       "      <th></th>\n",
       "      <th></th>\n",
       "      <th></th>\n",
       "      <th></th>\n",
       "      <th></th>\n",
       "      <th></th>\n",
       "      <th></th>\n",
       "      <th></th>\n",
       "    </tr>\n",
       "  </thead>\n",
       "  <tbody>\n",
       "    <tr>\n",
       "      <th>2019-09-10</th>\n",
       "      <td>0.0118</td>\n",
       "      <td>0.0299</td>\n",
       "      <td>-0.0219</td>\n",
       "      <td>0.0201</td>\n",
       "      <td>0.0127</td>\n",
       "      <td>-0.0105</td>\n",
       "      <td>0.0162</td>\n",
       "      <td>-0.0024</td>\n",
       "    </tr>\n",
       "    <tr>\n",
       "      <th>2019-09-11</th>\n",
       "      <td>0.0318</td>\n",
       "      <td>0.0364</td>\n",
       "      <td>0.0029</td>\n",
       "      <td>0.0241</td>\n",
       "      <td>0.0027</td>\n",
       "      <td>0.0003</td>\n",
       "      <td>0.0491</td>\n",
       "      <td>-0.0003</td>\n",
       "    </tr>\n",
       "    <tr>\n",
       "      <th>2019-09-12</th>\n",
       "      <td>-0.0022</td>\n",
       "      <td>-0.0191</td>\n",
       "      <td>0.0096</td>\n",
       "      <td>-0.0107</td>\n",
       "      <td>0.0061</td>\n",
       "      <td>0.0103</td>\n",
       "      <td>-0.0050</td>\n",
       "      <td>0.0078</td>\n",
       "    </tr>\n",
       "    <tr>\n",
       "      <th>2019-09-13</th>\n",
       "      <td>-0.0195</td>\n",
       "      <td>0.0110</td>\n",
       "      <td>0.0038</td>\n",
       "      <td>0.0086</td>\n",
       "      <td>0.0197</td>\n",
       "      <td>-0.0015</td>\n",
       "      <td>-0.0027</td>\n",
       "      <td>0.0044</td>\n",
       "    </tr>\n",
       "    <tr>\n",
       "      <th>2019-09-16</th>\n",
       "      <td>0.0053</td>\n",
       "      <td>-0.0024</td>\n",
       "      <td>-0.0161</td>\n",
       "      <td>0.0043</td>\n",
       "      <td>-0.0089</td>\n",
       "      <td>-0.0072</td>\n",
       "      <td>-0.0097</td>\n",
       "      <td>-0.0158</td>\n",
       "    </tr>\n",
       "    <tr>\n",
       "      <th>...</th>\n",
       "      <td>...</td>\n",
       "      <td>...</td>\n",
       "      <td>...</td>\n",
       "      <td>...</td>\n",
       "      <td>...</td>\n",
       "      <td>...</td>\n",
       "      <td>...</td>\n",
       "      <td>...</td>\n",
       "    </tr>\n",
       "    <tr>\n",
       "      <th>2024-08-30</th>\n",
       "      <td>-0.0034</td>\n",
       "      <td>0.0086</td>\n",
       "      <td>0.0063</td>\n",
       "      <td>0.0060</td>\n",
       "      <td>0.0117</td>\n",
       "      <td>0.0097</td>\n",
       "      <td>0.0380</td>\n",
       "      <td>0.0106</td>\n",
       "    </tr>\n",
       "    <tr>\n",
       "      <th>2024-09-03</th>\n",
       "      <td>-0.0272</td>\n",
       "      <td>-0.0732</td>\n",
       "      <td>-0.0138</td>\n",
       "      <td>-0.0596</td>\n",
       "      <td>-0.0200</td>\n",
       "      <td>-0.0185</td>\n",
       "      <td>-0.0164</td>\n",
       "      <td>-0.0008</td>\n",
       "    </tr>\n",
       "    <tr>\n",
       "      <th>2024-09-04</th>\n",
       "      <td>-0.0086</td>\n",
       "      <td>0.0137</td>\n",
       "      <td>0.0013</td>\n",
       "      <td>0.0131</td>\n",
       "      <td>-0.0044</td>\n",
       "      <td>-0.0013</td>\n",
       "      <td>0.0418</td>\n",
       "      <td>0.0009</td>\n",
       "    </tr>\n",
       "    <tr>\n",
       "      <th>2024-09-05</th>\n",
       "      <td>0.0069</td>\n",
       "      <td>-0.0066</td>\n",
       "      <td>-0.0067</td>\n",
       "      <td>-0.0151</td>\n",
       "      <td>-0.0078</td>\n",
       "      <td>-0.0012</td>\n",
       "      <td>0.0490</td>\n",
       "      <td>-0.0036</td>\n",
       "    </tr>\n",
       "    <tr>\n",
       "      <th>2024-09-06</th>\n",
       "      <td>-0.0070</td>\n",
       "      <td>-0.0279</td>\n",
       "      <td>-0.0080</td>\n",
       "      <td>-0.0160</td>\n",
       "      <td>-0.0238</td>\n",
       "      <td>-0.0164</td>\n",
       "      <td>-0.0845</td>\n",
       "      <td>-0.0042</td>\n",
       "    </tr>\n",
       "  </tbody>\n",
       "</table>\n",
       "<p>1257 rows × 8 columns</p>\n",
       "</div>"
      ],
      "text/plain": [
       "Ticker        AAPL      BA     DIS      GE     JPM    MSFT    TSLA     WMT\n",
       "Date                                                                      \n",
       "2019-09-10  0.0118  0.0299 -0.0219  0.0201  0.0127 -0.0105  0.0162 -0.0024\n",
       "2019-09-11  0.0318  0.0364  0.0029  0.0241  0.0027  0.0003  0.0491 -0.0003\n",
       "2019-09-12 -0.0022 -0.0191  0.0096 -0.0107  0.0061  0.0103 -0.0050  0.0078\n",
       "2019-09-13 -0.0195  0.0110  0.0038  0.0086  0.0197 -0.0015 -0.0027  0.0044\n",
       "2019-09-16  0.0053 -0.0024 -0.0161  0.0043 -0.0089 -0.0072 -0.0097 -0.0158\n",
       "...            ...     ...     ...     ...     ...     ...     ...     ...\n",
       "2024-08-30 -0.0034  0.0086  0.0063  0.0060  0.0117  0.0097  0.0380  0.0106\n",
       "2024-09-03 -0.0272 -0.0732 -0.0138 -0.0596 -0.0200 -0.0185 -0.0164 -0.0008\n",
       "2024-09-04 -0.0086  0.0137  0.0013  0.0131 -0.0044 -0.0013  0.0418  0.0009\n",
       "2024-09-05  0.0069 -0.0066 -0.0067 -0.0151 -0.0078 -0.0012  0.0490 -0.0036\n",
       "2024-09-06 -0.0070 -0.0279 -0.0080 -0.0160 -0.0238 -0.0164 -0.0845 -0.0042\n",
       "\n",
       "[1257 rows x 8 columns]"
      ]
     },
     "execution_count": 191,
     "metadata": {},
     "output_type": "execute_result"
    }
   ],
   "source": [
    "returns"
   ]
  },
  {
   "cell_type": "code",
   "execution_count": 193,
   "id": "b338367b",
   "metadata": {},
   "outputs": [
    {
     "data": {
      "text/html": [
       "<div>\n",
       "<style scoped>\n",
       "    .dataframe tbody tr th:only-of-type {\n",
       "        vertical-align: middle;\n",
       "    }\n",
       "\n",
       "    .dataframe tbody tr th {\n",
       "        vertical-align: top;\n",
       "    }\n",
       "\n",
       "    .dataframe thead th {\n",
       "        text-align: right;\n",
       "    }\n",
       "</style>\n",
       "<table border=\"1\" class=\"dataframe\">\n",
       "  <thead>\n",
       "    <tr style=\"text-align: right;\">\n",
       "      <th></th>\n",
       "      <th>ann. Risk</th>\n",
       "      <th>CAGR</th>\n",
       "      <th>RaR</th>\n",
       "    </tr>\n",
       "    <tr>\n",
       "      <th>Ticker</th>\n",
       "      <th></th>\n",
       "      <th></th>\n",
       "      <th></th>\n",
       "    </tr>\n",
       "  </thead>\n",
       "  <tbody>\n",
       "    <tr>\n",
       "      <th>AAPL</th>\n",
       "      <td>0.3171</td>\n",
       "      <td>0.3257</td>\n",
       "      <td>1.0269</td>\n",
       "    </tr>\n",
       "    <tr>\n",
       "      <th>BA</th>\n",
       "      <td>0.5097</td>\n",
       "      <td>-0.1571</td>\n",
       "      <td>-0.3082</td>\n",
       "    </tr>\n",
       "    <tr>\n",
       "      <th>DIS</th>\n",
       "      <td>0.3395</td>\n",
       "      <td>-0.0835</td>\n",
       "      <td>-0.2459</td>\n",
       "    </tr>\n",
       "    <tr>\n",
       "      <th>GE</th>\n",
       "      <td>0.3968</td>\n",
       "      <td>0.2886</td>\n",
       "      <td>0.7274</td>\n",
       "    </tr>\n",
       "    <tr>\n",
       "      <th>JPM</th>\n",
       "      <td>0.3198</td>\n",
       "      <td>0.1274</td>\n",
       "      <td>0.3984</td>\n",
       "    </tr>\n",
       "    <tr>\n",
       "      <th>MSFT</th>\n",
       "      <td>0.3030</td>\n",
       "      <td>0.2426</td>\n",
       "      <td>0.8006</td>\n",
       "    </tr>\n",
       "    <tr>\n",
       "      <th>TSLA</th>\n",
       "      <td>0.6588</td>\n",
       "      <td>0.6837</td>\n",
       "      <td>1.0379</td>\n",
       "    </tr>\n",
       "    <tr>\n",
       "      <th>WMT</th>\n",
       "      <td>0.2230</td>\n",
       "      <td>0.1470</td>\n",
       "      <td>0.6593</td>\n",
       "    </tr>\n",
       "  </tbody>\n",
       "</table>\n",
       "</div>"
      ],
      "text/plain": [
       "        ann. Risk    CAGR     RaR\n",
       "Ticker                           \n",
       "AAPL       0.3171  0.3257  1.0269\n",
       "BA         0.5097 -0.1571 -0.3082\n",
       "DIS        0.3395 -0.0835 -0.2459\n",
       "GE         0.3968  0.2886  0.7274\n",
       "JPM        0.3198  0.1274  0.3984\n",
       "MSFT       0.3030  0.2426  0.8006\n",
       "TSLA       0.6588  0.6837  1.0379\n",
       "WMT        0.2230  0.1470  0.6593"
      ]
     },
     "execution_count": 193,
     "metadata": {},
     "output_type": "execute_result"
    }
   ],
   "source": [
    "summary"
   ]
  },
  {
   "cell_type": "code",
   "execution_count": 195,
   "id": "b085489d",
   "metadata": {},
   "outputs": [],
   "source": [
    "#calculate portfolio CAGR (based on weights)\n",
    "def port_ret(weights):\n",
    "    simple_ret = returns.dot(weights.T).iloc[1:]\n",
    "    log_returns = np.log(simple_ret + 1)\n",
    "    cagr = np.exp(log_returns.mean() * 252) - 1\n",
    "    return cagr"
   ]
  },
  {
   "cell_type": "code",
   "execution_count": 197,
   "id": "0ba9b074",
   "metadata": {},
   "outputs": [],
   "source": [
    "#calculate annualized portfolio volatility (based on weights)\n",
    "def port_vol(weights):\n",
    "    simple_ret = returns.dot(weights.T).iloc[1:]\n",
    "    return simple_ret.std() * np.sqrt(252)"
   ]
  },
  {
   "cell_type": "code",
   "execution_count": 199,
   "id": "e418ca1a",
   "metadata": {},
   "outputs": [
    {
     "data": {
      "text/plain": [
       "8"
      ]
     },
     "execution_count": 199,
     "metadata": {},
     "output_type": "execute_result"
    }
   ],
   "source": [
    "noa = len(returns.columns)\n",
    "noa"
   ]
  },
  {
   "cell_type": "code",
   "execution_count": 201,
   "id": "7c6ed7e8",
   "metadata": {},
   "outputs": [
    {
     "data": {
      "text/plain": [
       "array([0.125, 0.125, 0.125, 0.125, 0.125, 0.125, 0.125, 0.125])"
      ]
     },
     "execution_count": 201,
     "metadata": {},
     "output_type": "execute_result"
    }
   ],
   "source": [
    "#equal weights (starting point of optimization)\n",
    "eweigths = np.full(noa, 1/noa)\n",
    "eweigths"
   ]
  },
  {
   "cell_type": "code",
   "execution_count": 203,
   "id": "8c662a4d",
   "metadata": {},
   "outputs": [
    {
     "data": {
      "text/plain": [
       "array([-0.15711939, -0.1486261 , -0.14013281, -0.13163952, -0.12314623,\n",
       "       -0.11465294, -0.10615966, -0.09766637, -0.08917308, -0.08067979,\n",
       "       -0.0721865 , -0.06369321, -0.05519992, -0.04670663, -0.03821334,\n",
       "       -0.02972005, -0.02122676, -0.01273347, -0.00424019,  0.0042531 ,\n",
       "        0.01274639,  0.02123968,  0.02973297,  0.03822626,  0.04671955,\n",
       "        0.05521284,  0.06370613,  0.07219942,  0.08069271,  0.089186  ,\n",
       "        0.09767928,  0.10617257,  0.11466586,  0.12315915,  0.13165244,\n",
       "        0.14014573,  0.14863902,  0.15713231,  0.1656256 ,  0.17411889,\n",
       "        0.18261218,  0.19110547,  0.19959875,  0.20809204,  0.21658533,\n",
       "        0.22507862,  0.23357191,  0.2420652 ,  0.25055849,  0.25905178,\n",
       "        0.26754507,  0.27603836,  0.28453165,  0.29302494,  0.30151822,\n",
       "        0.31001151,  0.3185048 ,  0.32699809,  0.33549138,  0.34398467,\n",
       "        0.35247796,  0.36097125,  0.36946454,  0.37795783,  0.38645112,\n",
       "        0.39494441,  0.40343769,  0.41193098,  0.42042427,  0.42891756,\n",
       "        0.43741085,  0.44590414,  0.45439743,  0.46289072,  0.47138401,\n",
       "        0.4798773 ,  0.48837059,  0.49686388,  0.50535716,  0.51385045,\n",
       "        0.52234374,  0.53083703,  0.53933032,  0.54782361,  0.5563169 ,\n",
       "        0.56481019,  0.57330348,  0.58179677,  0.59029006,  0.59878335,\n",
       "        0.60727663,  0.61576992,  0.62426321,  0.6327565 ,  0.64124979,\n",
       "        0.64974308,  0.65823637,  0.66672966,  0.67522295,  0.68371624])"
      ]
     },
     "execution_count": 203,
     "metadata": {},
     "output_type": "execute_result"
    }
   ],
   "source": [
    "tcagrs = np.linspace(summary.CAGR.min(), summary.CAGR.max(), 100)\n",
    "tcagrs # evenly spaced target returns between min and max"
   ]
  },
  {
   "cell_type": "code",
   "execution_count": 205,
   "id": "b633c861",
   "metadata": {},
   "outputs": [],
   "source": [
    "# portfolio return == tcagr\n",
    "cons = ({\"type\": \"eq\", \"fun\": lambda x: port_ret(x) - tcagr},\n",
    "       {\"type\": \"eq\", \"fun\": lambda x: np.sum(x) - 1})"
   ]
  },
  {
   "cell_type": "code",
   "execution_count": 207,
   "id": "1359cee6",
   "metadata": {},
   "outputs": [
    {
     "data": {
      "text/plain": [
       "((0, 1), (0, 1), (0, 1), (0, 1), (0, 1), (0, 1), (0, 1), (0, 1))"
      ]
     },
     "execution_count": 207,
     "metadata": {},
     "output_type": "execute_result"
    }
   ],
   "source": [
    "bnds =  tuple((0, 1) for x in range(noa))\n",
    "bnds"
   ]
  },
  {
   "cell_type": "code",
   "execution_count": 209,
   "id": "a3104d69",
   "metadata": {},
   "outputs": [],
   "source": [
    "vols = []"
   ]
  },
  {
   "cell_type": "code",
   "execution_count": 211,
   "id": "eb2bdb9d",
   "metadata": {},
   "outputs": [],
   "source": [
    "#for each target return, find the portfolio with the lowest volatility\n",
    "for tcagr in tcagrs:\n",
    "    res = sco.minimize(port_vol, eweigths, method = \"SLSQP\", bounds = bnds, constraints = cons)\n",
    "    vols.append(res[\"fun\"])\n",
    "vols = np.array(vols)"
   ]
  },
  {
   "cell_type": "code",
   "execution_count": 212,
   "id": "03ad5330",
   "metadata": {},
   "outputs": [
    {
     "data": {
      "text/plain": [
       "array([0.509736  , 0.4910145 , 0.47183228, 0.45214866, 0.43192287,\n",
       "       0.41112637, 0.38976116, 0.36794086, 0.3462487 , 0.33120724,\n",
       "       0.32224306, 0.31339876, 0.30468699, 0.2961243 , 0.28772876,\n",
       "       0.27952099, 0.27152478, 0.26376711, 0.25627857, 0.24909372,\n",
       "       0.24225157, 0.23579585, 0.22977453, 0.22424016, 0.21925113,\n",
       "       0.21486851, 0.21115689, 0.20812731, 0.20552369, 0.20332029,\n",
       "       0.20152441, 0.20001855, 0.19876936, 0.19778093, 0.19701257,\n",
       "       0.19643392, 0.19603294, 0.19581112, 0.19576751, 0.19590067,\n",
       "       0.19619645, 0.19661389, 0.19714978, 0.19780252, 0.19856932,\n",
       "       0.19952853, 0.20072434, 0.20215217, 0.20380073, 0.20567549,\n",
       "       0.20776656, 0.21006801, 0.2125736 , 0.21528047, 0.21822813,\n",
       "       0.22142243, 0.224856  , 0.22853713, 0.23246393, 0.23662838,\n",
       "       0.24102338, 0.24564089, 0.25047424, 0.25551623, 0.2607603 ,\n",
       "       0.26620028, 0.27183045, 0.27764556, 0.28364085, 0.28981206,\n",
       "       0.29615541, 0.30266773, 0.30934593, 0.31618806, 0.32319247,\n",
       "       0.33035797, 0.33768358, 0.34516934, 0.35281601, 0.36062428,\n",
       "       0.36859588, 0.37673364, 0.38503966, 0.39351793, 0.4022803 ,\n",
       "       0.41146907, 0.42110746, 0.43122442, 0.44185341, 0.45303621,\n",
       "       0.46482418, 0.47728115, 0.49048775, 0.50454728, 0.51961015,\n",
       "       0.5364081 , 0.55582725, 0.5791269 , 0.60924468, 0.65876877])"
      ]
     },
     "execution_count": 212,
     "metadata": {},
     "output_type": "execute_result"
    }
   ],
   "source": [
    "vols"
   ]
  },
  {
   "cell_type": "code",
   "execution_count": 213,
   "id": "39ad63eb",
   "metadata": {},
   "outputs": [
    {
     "data": {
      "image/png": "[encoded data removed]",
      "text/plain": [
       "<Figure size 1500x800 with 2 Axes>"
      ]
     },
     "metadata": {},
     "output_type": "display_data"
    }
   ],
   "source": [
    "plt.figure(figsize = (15, 8))\n",
    "plt.scatter(port_summary.loc[:, \"ann. Risk\"], port_summary.loc[:, \"CAGR\"], s= 20, \n",
    "            c = port_summary.loc[:, \"RaR\"], cmap = \"coolwarm\", vmin = vmin, vmax = vmax, alpha = 0.66)\n",
    "plt.colorbar()\n",
    "plt.scatter(summary.loc[:, \"ann. Risk\"], summary.loc[:, \"CAGR\"],s= 50, marker = \"D\", c = \"black\")\n",
    "for i in summary.index:\n",
    "    plt.annotate(i, xy=(summary.loc[i, \"ann. Risk\"]+0.01, summary.loc[i, \"CAGR\"]+0.01), size = 15)\n",
    "    plt.plot(vols, tcagrs) # efficient frontier\n",
    "\n",
    "plt.xlabel(\"ann. Risk (std)\", fontsize = 15)\n",
    "plt.ylabel(\"CAGR\", fontsize = 15)\n",
    "plt.title(\"The Efficient Frontier\", fontsize = 20)\n",
    "plt.show()"
   ]
  },
  {
   "cell_type": "code",
   "execution_count": null,
   "id": "473e52d4",
   "metadata": {},
   "outputs": [],
   "source": []
  },
  {
   "cell_type": "markdown",
   "id": "ea2d88d8",
   "metadata": {},
   "source": [
    "## Comparison: daily Rebalancing vs. no Rebalancing"
   ]
  },
  {
   "cell_type": "markdown",
   "id": "dbde066c",
   "metadata": {},
   "source": [
    "__Efficient Frontier without rebalancing:__"
   ]
  },
  {
   "cell_type": "code",
   "execution_count": 217,
   "id": "9151c548",
   "metadata": {},
   "outputs": [],
   "source": [
    "cagr_no = np.array([-0.21321957, -0.20504081, -0.19686206, -0.18868331, -0.18050455,\n",
    "       -0.1723258 , -0.16414704, -0.15596829, -0.14778953, -0.13961078,\n",
    "       -0.13143202, -0.12325327, -0.11507451, -0.10689576, -0.098717  ,\n",
    "       -0.09053825, -0.08235949, -0.07418074, -0.06600198, -0.05782323,\n",
    "       -0.04964447, -0.04146572, -0.03328696, -0.02510821, -0.01692945,\n",
    "       -0.0087507 , -0.00057194,  0.00760681,  0.01578557,  0.02396432,\n",
    "        0.03214308,  0.04032183,  0.04850058,  0.05667934,  0.06485809,\n",
    "        0.07303685,  0.0812156 ,  0.08939436,  0.09757311,  0.10575187,\n",
    "        0.11393062,  0.12210938,  0.13028813,  0.13846689,  0.14664564,\n",
    "        0.1548244 ,  0.16300315,  0.17118191,  0.17936066,  0.18753942,\n",
    "        0.19571817,  0.20389693,  0.21207568,  0.22025444,  0.22843319,\n",
    "        0.23661195,  0.2447907 ,  0.25296946,  0.26114821,  0.26932697,\n",
    "        0.27750572,  0.28568448,  0.29386323,  0.30204198,  0.31022074,\n",
    "        0.31839949,  0.32657825,  0.334757  ,  0.34293576,  0.35111451,\n",
    "        0.35929327,  0.36747202,  0.37565078,  0.38382953,  0.39200829,\n",
    "        0.40018704,  0.4083658 ,  0.41654455,  0.42472331,  0.43290206,\n",
    "        0.44108082,  0.44925957,  0.45743833,  0.46561708,  0.47379584,\n",
    "        0.48197459,  0.49015335,  0.4983321 ,  0.50651086,  0.51468961,\n",
    "        0.52286837,  0.53104712,  0.53922587,  0.54740463,  0.55558338,\n",
    "        0.56376214,  0.57194089,  0.58011965,  0.5882984 ,  0.59647716])"
   ]
  },
  {
   "cell_type": "code",
   "execution_count": 218,
   "id": "97e2f239",
   "metadata": {},
   "outputs": [],
   "source": [
    "vols_no = np.array([0.43230733, 0.4082562 , 0.38776821, 0.36971057, 0.35298005,\n",
    "       0.33746244, 0.32307554, 0.30974812, 0.29741952, 0.28603623,\n",
    "       0.27555009, 0.26591947, 0.25710661, 0.2490747 , 0.24178985,\n",
    "       0.23521878, 0.22932929, 0.22408966, 0.2194684 , 0.21543409,\n",
    "       0.2119554 , 0.20898808, 0.2064256 , 0.20423296, 0.20239196,\n",
    "       0.20088063, 0.19967245, 0.19867169, 0.19785033, 0.19719909,\n",
    "       0.19670841, 0.19636225, 0.19615204, 0.19607055, 0.19611186,\n",
    "       0.19626816, 0.19653368, 0.19690195, 0.19736735, 0.19792419,\n",
    "       0.19867678, 0.19968965, 0.20093869, 0.20241949, 0.20410759,\n",
    "       0.20598642, 0.20804255, 0.21026158, 0.2126309 , 0.21513937,\n",
    "       0.21779366, 0.22060839, 0.22356945, 0.22680792, 0.23038234,\n",
    "       0.23426203, 0.23842321, 0.24284222, 0.2474965 , 0.25236585,\n",
    "       0.25743184, 0.2626779 , 0.26808938, 0.273651  , 0.27935259,\n",
    "       0.28518299, 0.29113258, 0.29719306, 0.30335721, 0.30961907,\n",
    "       0.31597335, 0.32252773, 0.32942379, 0.33662063, 0.34408425,\n",
    "       0.3517883 , 0.35971312, 0.36784493, 0.37617501, 0.3846992 ,\n",
    "       0.39341798, 0.40233485, 0.41145694, 0.42079451, 0.4303609 ,\n",
    "       0.44017233, 0.45024792, 0.46060983, 0.47132985, 0.48248702,\n",
    "       0.4941349 , 0.50633574, 0.51916219, 0.53269957, 0.54704879,\n",
    "       0.56233037, 0.57869002, 0.59630658, 0.61540303, 0.63626358])"
   ]
  },
  {
   "cell_type": "code",
   "execution_count": 219,
   "id": "01d632bc",
   "metadata": {},
   "outputs": [
    {
     "data": {
      "image/png": "[encoded data removed]",
      "text/plain": [
       "<Figure size 1500x800 with 2 Axes>"
      ]
     },
     "metadata": {},
     "output_type": "display_data"
    }
   ],
   "source": [
    "plt.figure(figsize = (15, 8))\n",
    "plt.scatter(port_summary.loc[:, \"ann. Risk\"], port_summary.loc[:, \"CAGR\"], s= 20, \n",
    "            c = port_summary.loc[:, \"RaR\"], cmap = \"coolwarm\", vmin = vmin, vmax = vmax, alpha = 0.66)\n",
    "plt.colorbar()\n",
    "plt.scatter(summary.loc[:, \"ann. Risk\"], summary.loc[:, \"CAGR\"],s= 50, marker = \"D\", c = \"black\")\n",
    "for i in summary.index:\n",
    "    plt.annotate(i, xy=(summary.loc[i, \"ann. Risk\"]+0.01, summary.loc[i, \"CAGR\"]+0.01), size = 15)\n",
    "plt.plot(vols, tcagrs, label = \"EF daily rebalancing\") # efficient frontier with rebal.\n",
    "plt.plot(vols_no, cagr_no, label = \"EF no rebalancing\") # efficient frontier without rebal.\n",
    "plt.xlabel(\"ann. Risk (std)\", fontsize = 15)\n",
    "plt.ylabel(\"CAGR\", fontsize = 15)\n",
    "plt.legend(fontsize = 12)\n",
    "plt.title(\"The Effect of Rebalancing\", fontsize = 20)\n",
    "plt.show()"
   ]
  },
  {
   "cell_type": "markdown",
   "id": "f1f1834e",
   "metadata": {},
   "source": []
  },
  {
   "cell_type": "markdown",
   "id": "b25fc430",
   "metadata": {},
   "source": []
  },
  {
   "cell_type": "code",
   "execution_count": null,
   "id": "71a2e99a",
   "metadata": {},
   "outputs": [],
   "source": []
  },
  {
   "cell_type": "markdown",
   "id": "6e71c5cc",
   "metadata": {},
   "source": [
    "## Bonus!!! Approximation of Rebalancing Costs"
   ]
  },
  {
   "cell_type": "code",
   "execution_count": 225,
   "id": "e3ce959d",
   "metadata": {},
   "outputs": [
    {
     "data": {
      "text/plain": [
       "array([0.15243548, 0.06262702, 0.04965074, 0.12066568, 0.15746942,\n",
       "       0.09260487, 0.21465883, 0.14988797])"
      ]
     },
     "execution_count": 225,
     "metadata": {},
     "output_type": "execute_result"
    }
   ],
   "source": [
    "w1 # target weights to be reinstated at the end of each day "
   ]
  },
  {
   "cell_type": "code",
   "execution_count": 226,
   "id": "730e6d88",
   "metadata": {},
   "outputs": [
    {
     "data": {
      "text/html": [
       "<div>\n",
       "<style scoped>\n",
       "    .dataframe tbody tr th:only-of-type {\n",
       "        vertical-align: middle;\n",
       "    }\n",
       "\n",
       "    .dataframe tbody tr th {\n",
       "        vertical-align: top;\n",
       "    }\n",
       "\n",
       "    .dataframe thead th {\n",
       "        text-align: right;\n",
       "    }\n",
       "</style>\n",
       "<table border=\"1\" class=\"dataframe\">\n",
       "  <thead>\n",
       "    <tr style=\"text-align: right;\">\n",
       "      <th>Ticker</th>\n",
       "      <th>AAPL</th>\n",
       "      <th>BA</th>\n",
       "      <th>DIS</th>\n",
       "      <th>GE</th>\n",
       "      <th>JPM</th>\n",
       "      <th>MSFT</th>\n",
       "      <th>TSLA</th>\n",
       "      <th>WMT</th>\n",
       "    </tr>\n",
       "    <tr>\n",
       "      <th>Date</th>\n",
       "      <th></th>\n",
       "      <th></th>\n",
       "      <th></th>\n",
       "      <th></th>\n",
       "      <th></th>\n",
       "      <th></th>\n",
       "      <th></th>\n",
       "      <th></th>\n",
       "    </tr>\n",
       "  </thead>\n",
       "  <tbody>\n",
       "    <tr>\n",
       "      <th>2019-09-10</th>\n",
       "      <td>0.0118</td>\n",
       "      <td>0.0299</td>\n",
       "      <td>-0.0219</td>\n",
       "      <td>0.0201</td>\n",
       "      <td>0.0127</td>\n",
       "      <td>-0.0105</td>\n",
       "      <td>0.0162</td>\n",
       "      <td>-0.0024</td>\n",
       "    </tr>\n",
       "    <tr>\n",
       "      <th>2019-09-11</th>\n",
       "      <td>0.0318</td>\n",
       "      <td>0.0364</td>\n",
       "      <td>0.0029</td>\n",
       "      <td>0.0241</td>\n",
       "      <td>0.0027</td>\n",
       "      <td>0.0003</td>\n",
       "      <td>0.0491</td>\n",
       "      <td>-0.0003</td>\n",
       "    </tr>\n",
       "    <tr>\n",
       "      <th>2019-09-12</th>\n",
       "      <td>-0.0022</td>\n",
       "      <td>-0.0191</td>\n",
       "      <td>0.0096</td>\n",
       "      <td>-0.0107</td>\n",
       "      <td>0.0061</td>\n",
       "      <td>0.0103</td>\n",
       "      <td>-0.0050</td>\n",
       "      <td>0.0078</td>\n",
       "    </tr>\n",
       "    <tr>\n",
       "      <th>2019-09-13</th>\n",
       "      <td>-0.0195</td>\n",
       "      <td>0.0110</td>\n",
       "      <td>0.0038</td>\n",
       "      <td>0.0086</td>\n",
       "      <td>0.0197</td>\n",
       "      <td>-0.0015</td>\n",
       "      <td>-0.0027</td>\n",
       "      <td>0.0044</td>\n",
       "    </tr>\n",
       "    <tr>\n",
       "      <th>2019-09-16</th>\n",
       "      <td>0.0053</td>\n",
       "      <td>-0.0024</td>\n",
       "      <td>-0.0161</td>\n",
       "      <td>0.0043</td>\n",
       "      <td>-0.0089</td>\n",
       "      <td>-0.0072</td>\n",
       "      <td>-0.0097</td>\n",
       "      <td>-0.0158</td>\n",
       "    </tr>\n",
       "    <tr>\n",
       "      <th>...</th>\n",
       "      <td>...</td>\n",
       "      <td>...</td>\n",
       "      <td>...</td>\n",
       "      <td>...</td>\n",
       "      <td>...</td>\n",
       "      <td>...</td>\n",
       "      <td>...</td>\n",
       "      <td>...</td>\n",
       "    </tr>\n",
       "    <tr>\n",
       "      <th>2024-08-30</th>\n",
       "      <td>-0.0034</td>\n",
       "      <td>0.0086</td>\n",
       "      <td>0.0063</td>\n",
       "      <td>0.0060</td>\n",
       "      <td>0.0117</td>\n",
       "      <td>0.0097</td>\n",
       "      <td>0.0380</td>\n",
       "      <td>0.0106</td>\n",
       "    </tr>\n",
       "    <tr>\n",
       "      <th>2024-09-03</th>\n",
       "      <td>-0.0272</td>\n",
       "      <td>-0.0732</td>\n",
       "      <td>-0.0138</td>\n",
       "      <td>-0.0596</td>\n",
       "      <td>-0.0200</td>\n",
       "      <td>-0.0185</td>\n",
       "      <td>-0.0164</td>\n",
       "      <td>-0.0008</td>\n",
       "    </tr>\n",
       "    <tr>\n",
       "      <th>2024-09-04</th>\n",
       "      <td>-0.0086</td>\n",
       "      <td>0.0137</td>\n",
       "      <td>0.0013</td>\n",
       "      <td>0.0131</td>\n",
       "      <td>-0.0044</td>\n",
       "      <td>-0.0013</td>\n",
       "      <td>0.0418</td>\n",
       "      <td>0.0009</td>\n",
       "    </tr>\n",
       "    <tr>\n",
       "      <th>2024-09-05</th>\n",
       "      <td>0.0069</td>\n",
       "      <td>-0.0066</td>\n",
       "      <td>-0.0067</td>\n",
       "      <td>-0.0151</td>\n",
       "      <td>-0.0078</td>\n",
       "      <td>-0.0012</td>\n",
       "      <td>0.0490</td>\n",
       "      <td>-0.0036</td>\n",
       "    </tr>\n",
       "    <tr>\n",
       "      <th>2024-09-06</th>\n",
       "      <td>-0.0070</td>\n",
       "      <td>-0.0279</td>\n",
       "      <td>-0.0080</td>\n",
       "      <td>-0.0160</td>\n",
       "      <td>-0.0238</td>\n",
       "      <td>-0.0164</td>\n",
       "      <td>-0.0845</td>\n",
       "      <td>-0.0042</td>\n",
       "    </tr>\n",
       "  </tbody>\n",
       "</table>\n",
       "<p>1257 rows × 8 columns</p>\n",
       "</div>"
      ],
      "text/plain": [
       "Ticker        AAPL      BA     DIS      GE     JPM    MSFT    TSLA     WMT\n",
       "Date                                                                      \n",
       "2019-09-10  0.0118  0.0299 -0.0219  0.0201  0.0127 -0.0105  0.0162 -0.0024\n",
       "2019-09-11  0.0318  0.0364  0.0029  0.0241  0.0027  0.0003  0.0491 -0.0003\n",
       "2019-09-12 -0.0022 -0.0191  0.0096 -0.0107  0.0061  0.0103 -0.0050  0.0078\n",
       "2019-09-13 -0.0195  0.0110  0.0038  0.0086  0.0197 -0.0015 -0.0027  0.0044\n",
       "2019-09-16  0.0053 -0.0024 -0.0161  0.0043 -0.0089 -0.0072 -0.0097 -0.0158\n",
       "...            ...     ...     ...     ...     ...     ...     ...     ...\n",
       "2024-08-30 -0.0034  0.0086  0.0063  0.0060  0.0117  0.0097  0.0380  0.0106\n",
       "2024-09-03 -0.0272 -0.0732 -0.0138 -0.0596 -0.0200 -0.0185 -0.0164 -0.0008\n",
       "2024-09-04 -0.0086  0.0137  0.0013  0.0131 -0.0044 -0.0013  0.0418  0.0009\n",
       "2024-09-05  0.0069 -0.0066 -0.0067 -0.0151 -0.0078 -0.0012  0.0490 -0.0036\n",
       "2024-09-06 -0.0070 -0.0279 -0.0080 -0.0160 -0.0238 -0.0164 -0.0845 -0.0042\n",
       "\n",
       "[1257 rows x 8 columns]"
      ]
     },
     "execution_count": 226,
     "metadata": {},
     "output_type": "execute_result"
    }
   ],
   "source": [
    "returns"
   ]
  },
  {
   "cell_type": "code",
   "execution_count": 227,
   "id": "98c7a8f5",
   "metadata": {},
   "outputs": [
    {
     "data": {
      "text/plain": [
       "array([[0.15423621, 0.0644965 , 0.04856352, ..., 0.09163518, 0.21813167,\n",
       "        0.14952719],\n",
       "       [0.15728218, 0.06490674, 0.049797  , ..., 0.09263208, 0.225194  ,\n",
       "        0.14984921],\n",
       "       [0.1520946 , 0.06143152, 0.05012832, ..., 0.09355732, 0.2135903 ,\n",
       "        0.15105069],\n",
       "       ...,\n",
       "       [0.15112168, 0.06348268, 0.04971759, ..., 0.09248273, 0.22363862,\n",
       "        0.15002393],\n",
       "       [0.15349152, 0.06221646, 0.04931695, ..., 0.09248937, 0.22518582,\n",
       "        0.14934461],\n",
       "       [0.15136614, 0.0608774 , 0.04925309, ..., 0.09108787, 0.19652889,\n",
       "        0.14926473]])"
      ]
     },
     "execution_count": 227,
     "metadata": {},
     "output_type": "execute_result"
    }
   ],
   "source": [
    "matrix = returns.add(1).mul(w1).values\n",
    "matrix"
   ]
  },
  {
   "cell_type": "code",
   "execution_count": 228,
   "id": "cf47d042",
   "metadata": {},
   "outputs": [
    {
     "data": {
      "text/plain": [
       "array([[0.15283693, 0.06391137, 0.04812294, ..., 0.09080384, 0.21615272,\n",
       "        0.14817063],\n",
       "       [0.15402729, 0.06356352, 0.04876647, ..., 0.0907151 , 0.22053371,\n",
       "        0.14674814],\n",
       "       [0.15214539, 0.06145203, 0.05014507, ..., 0.09358856, 0.21366163,\n",
       "        0.15110113],\n",
       "       ...,\n",
       "       [0.14970119, 0.06288597, 0.04925026, ..., 0.09161343, 0.22153649,\n",
       "        0.14861375],\n",
       "       [0.15240355, 0.06177546, 0.04896739, ..., 0.09183379, 0.22358967,\n",
       "        0.14828604],\n",
       "       [0.15591209, 0.06270572, 0.05073229, ..., 0.09382349, 0.20243119,\n",
       "        0.15374756]])"
      ]
     },
     "execution_count": 228,
     "metadata": {},
     "output_type": "execute_result"
    }
   ],
   "source": [
    "weights = matrix / matrix.sum(axis = 1, keepdims= True)\n",
    "weights # weights at the end of each day (before rebalancing)"
   ]
  },
  {
   "cell_type": "code",
   "execution_count": 229,
   "id": "3fcdf434",
   "metadata": {},
   "outputs": [
    {
     "data": {
      "text/plain": [
       "(1257, 8)"
      ]
     },
     "execution_count": 229,
     "metadata": {},
     "output_type": "execute_result"
    }
   ],
   "source": [
    "weights.shape"
   ]
  },
  {
   "cell_type": "code",
   "execution_count": 230,
   "id": "b97df44e",
   "metadata": {},
   "outputs": [
    {
     "data": {
      "text/plain": [
       "array([1., 1., 1., ..., 1., 1., 1.])"
      ]
     },
     "execution_count": 230,
     "metadata": {},
     "output_type": "execute_result"
    }
   ],
   "source": [
    "weights.sum(axis = 1)"
   ]
  },
  {
   "cell_type": "code",
   "execution_count": 231,
   "id": "7b560c42",
   "metadata": {},
   "outputs": [
    {
     "data": {
      "text/plain": [
       "array([[ 0.00040145,  0.00128436, -0.0015278 , ..., -0.00180103,\n",
       "         0.00149389, -0.00171733],\n",
       "       [ 0.00159181,  0.0009365 , -0.00088427, ..., -0.00188977,\n",
       "         0.00587487, -0.00313982],\n",
       "       [-0.00029009, -0.00117498,  0.00049433, ...,  0.00098369,\n",
       "        -0.0009972 ,  0.00121316],\n",
       "       ...,\n",
       "       [-0.00273429,  0.00025895, -0.00040048, ..., -0.00099144,\n",
       "         0.00687766, -0.00127421],\n",
       "       [-0.00003193, -0.00085156, -0.00068335, ..., -0.00077107,\n",
       "         0.00893084, -0.00160193],\n",
       "       [ 0.00347661,  0.0000787 ,  0.00108155, ...,  0.00121862,\n",
       "        -0.01222764,  0.0038596 ]])"
      ]
     },
     "execution_count": 231,
     "metadata": {},
     "output_type": "execute_result"
    }
   ],
   "source": [
    "delta_weights = weights - w1\n",
    "delta_weights"
   ]
  },
  {
   "cell_type": "code",
   "execution_count": 232,
   "id": "f6b328ee",
   "metadata": {},
   "outputs": [
    {
     "data": {
      "text/plain": [
       "array([[0.00040145, 0.00128436, 0.0015278 , ..., 0.00180103, 0.00149389,\n",
       "        0.00171733],\n",
       "       [0.00159181, 0.0009365 , 0.00088427, ..., 0.00188977, 0.00587487,\n",
       "        0.00313982],\n",
       "       [0.00029009, 0.00117498, 0.00049433, ..., 0.00098369, 0.0009972 ,\n",
       "        0.00121316],\n",
       "       ...,\n",
       "       [0.00273429, 0.00025895, 0.00040048, ..., 0.00099144, 0.00687766,\n",
       "        0.00127421],\n",
       "       [0.00003193, 0.00085156, 0.00068335, ..., 0.00077107, 0.00893084,\n",
       "        0.00160193],\n",
       "       [0.00347661, 0.0000787 , 0.00108155, ..., 0.00121862, 0.01222764,\n",
       "        0.0038596 ]])"
      ]
     },
     "execution_count": 232,
     "metadata": {},
     "output_type": "execute_result"
    }
   ],
   "source": [
    "np.abs(delta_weights)"
   ]
  },
  {
   "cell_type": "code",
   "execution_count": 233,
   "id": "bea52b5d",
   "metadata": {},
   "outputs": [
    {
     "data": {
      "text/html": [
       "<div>\n",
       "<style scoped>\n",
       "    .dataframe tbody tr th:only-of-type {\n",
       "        vertical-align: middle;\n",
       "    }\n",
       "\n",
       "    .dataframe tbody tr th {\n",
       "        vertical-align: top;\n",
       "    }\n",
       "\n",
       "    .dataframe thead th {\n",
       "        text-align: right;\n",
       "    }\n",
       "</style>\n",
       "<table border=\"1\" class=\"dataframe\">\n",
       "  <thead>\n",
       "    <tr style=\"text-align: right;\">\n",
       "      <th></th>\n",
       "      <th>0</th>\n",
       "      <th>1</th>\n",
       "      <th>2</th>\n",
       "      <th>3</th>\n",
       "      <th>4</th>\n",
       "      <th>5</th>\n",
       "      <th>6</th>\n",
       "      <th>7</th>\n",
       "    </tr>\n",
       "  </thead>\n",
       "  <tbody>\n",
       "    <tr>\n",
       "      <th>0</th>\n",
       "      <td>0.0004</td>\n",
       "      <td>0.0013</td>\n",
       "      <td>0.0015</td>\n",
       "      <td>0.0013</td>\n",
       "      <td>0.0006</td>\n",
       "      <td>0.0018</td>\n",
       "      <td>0.0015</td>\n",
       "      <td>0.0017</td>\n",
       "    </tr>\n",
       "    <tr>\n",
       "      <th>1</th>\n",
       "      <td>0.0016</td>\n",
       "      <td>0.0009</td>\n",
       "      <td>0.0009</td>\n",
       "      <td>0.0003</td>\n",
       "      <td>0.0028</td>\n",
       "      <td>0.0019</td>\n",
       "      <td>0.0059</td>\n",
       "      <td>0.0031</td>\n",
       "    </tr>\n",
       "    <tr>\n",
       "      <th>2</th>\n",
       "      <td>0.0003</td>\n",
       "      <td>0.0012</td>\n",
       "      <td>0.0005</td>\n",
       "      <td>0.0012</td>\n",
       "      <td>0.0010</td>\n",
       "      <td>0.0010</td>\n",
       "      <td>0.0010</td>\n",
       "      <td>0.0012</td>\n",
       "    </tr>\n",
       "    <tr>\n",
       "      <th>3</th>\n",
       "      <td>0.0033</td>\n",
       "      <td>0.0006</td>\n",
       "      <td>0.0001</td>\n",
       "      <td>0.0008</td>\n",
       "      <td>0.0028</td>\n",
       "      <td>0.0003</td>\n",
       "      <td>0.0010</td>\n",
       "      <td>0.0004</td>\n",
       "    </tr>\n",
       "    <tr>\n",
       "      <th>4</th>\n",
       "      <td>0.0018</td>\n",
       "      <td>0.0002</td>\n",
       "      <td>0.0005</td>\n",
       "      <td>0.0013</td>\n",
       "      <td>0.0004</td>\n",
       "      <td>0.0001</td>\n",
       "      <td>0.0008</td>\n",
       "      <td>0.0015</td>\n",
       "    </tr>\n",
       "    <tr>\n",
       "      <th>...</th>\n",
       "      <td>...</td>\n",
       "      <td>...</td>\n",
       "      <td>...</td>\n",
       "      <td>...</td>\n",
       "      <td>...</td>\n",
       "      <td>...</td>\n",
       "      <td>...</td>\n",
       "      <td>...</td>\n",
       "    </tr>\n",
       "    <tr>\n",
       "      <th>1252</th>\n",
       "      <td>0.0026</td>\n",
       "      <td>0.0003</td>\n",
       "      <td>0.0004</td>\n",
       "      <td>0.0009</td>\n",
       "      <td>0.0003</td>\n",
       "      <td>0.0003</td>\n",
       "      <td>0.0052</td>\n",
       "      <td>0.0004</td>\n",
       "    </tr>\n",
       "    <tr>\n",
       "      <th>1253</th>\n",
       "      <td>0.0003</td>\n",
       "      <td>0.0031</td>\n",
       "      <td>0.0006</td>\n",
       "      <td>0.0043</td>\n",
       "      <td>0.0008</td>\n",
       "      <td>0.0006</td>\n",
       "      <td>0.0019</td>\n",
       "      <td>0.0037</td>\n",
       "    </tr>\n",
       "    <tr>\n",
       "      <th>1254</th>\n",
       "      <td>0.0027</td>\n",
       "      <td>0.0003</td>\n",
       "      <td>0.0004</td>\n",
       "      <td>0.0004</td>\n",
       "      <td>0.0022</td>\n",
       "      <td>0.0010</td>\n",
       "      <td>0.0069</td>\n",
       "      <td>0.0013</td>\n",
       "    </tr>\n",
       "    <tr>\n",
       "      <th>1255</th>\n",
       "      <td>0.0000</td>\n",
       "      <td>0.0009</td>\n",
       "      <td>0.0007</td>\n",
       "      <td>0.0027</td>\n",
       "      <td>0.0023</td>\n",
       "      <td>0.0008</td>\n",
       "      <td>0.0089</td>\n",
       "      <td>0.0016</td>\n",
       "    </tr>\n",
       "    <tr>\n",
       "      <th>1256</th>\n",
       "      <td>0.0035</td>\n",
       "      <td>0.0001</td>\n",
       "      <td>0.0011</td>\n",
       "      <td>0.0016</td>\n",
       "      <td>0.0009</td>\n",
       "      <td>0.0012</td>\n",
       "      <td>0.0122</td>\n",
       "      <td>0.0039</td>\n",
       "    </tr>\n",
       "  </tbody>\n",
       "</table>\n",
       "<p>1257 rows × 8 columns</p>\n",
       "</div>"
      ],
      "text/plain": [
       "          0      1      2      3      4      5      6      7\n",
       "0    0.0004 0.0013 0.0015 0.0013 0.0006 0.0018 0.0015 0.0017\n",
       "1    0.0016 0.0009 0.0009 0.0003 0.0028 0.0019 0.0059 0.0031\n",
       "2    0.0003 0.0012 0.0005 0.0012 0.0010 0.0010 0.0010 0.0012\n",
       "3    0.0033 0.0006 0.0001 0.0008 0.0028 0.0003 0.0010 0.0004\n",
       "4    0.0018 0.0002 0.0005 0.0013 0.0004 0.0001 0.0008 0.0015\n",
       "...     ...    ...    ...    ...    ...    ...    ...    ...\n",
       "1252 0.0026 0.0003 0.0004 0.0009 0.0003 0.0003 0.0052 0.0004\n",
       "1253 0.0003 0.0031 0.0006 0.0043 0.0008 0.0006 0.0019 0.0037\n",
       "1254 0.0027 0.0003 0.0004 0.0004 0.0022 0.0010 0.0069 0.0013\n",
       "1255 0.0000 0.0009 0.0007 0.0027 0.0023 0.0008 0.0089 0.0016\n",
       "1256 0.0035 0.0001 0.0011 0.0016 0.0009 0.0012 0.0122 0.0039\n",
       "\n",
       "[1257 rows x 8 columns]"
      ]
     },
     "execution_count": 233,
     "metadata": {},
     "output_type": "execute_result"
    }
   ],
   "source": [
    "df = pd.DataFrame(np.abs(delta_weights))\n",
    "df # deviation of weights"
   ]
  },
  {
   "cell_type": "code",
   "execution_count": 234,
   "id": "66d9425b",
   "metadata": {},
   "outputs": [
    {
     "data": {
      "text/plain": [
       "0.013840495548592386"
      ]
     },
     "execution_count": 234,
     "metadata": {},
     "output_type": "execute_result"
    }
   ],
   "source": [
    "daily_rebal = df.sum(axis = 1).mean()\n",
    "daily_rebal"
   ]
  },
  {
   "cell_type": "markdown",
   "id": "abfee2ff",
   "metadata": {},
   "source": [
    "__-> on average, approx. 1.5% of total portfolio needs to be rebalanced every day (fractional trading).__"
   ]
  },
  {
   "cell_type": "code",
   "execution_count": 236,
   "id": "78f34e0d",
   "metadata": {},
   "outputs": [
    {
     "data": {
      "text/plain": [
       "0.01"
      ]
     },
     "execution_count": 236,
     "metadata": {},
     "output_type": "execute_result"
    }
   ],
   "source": [
    "ptc = 0.01 # worst case for US Stocks\n",
    "ptc"
   ]
  },
  {
   "cell_type": "code",
   "execution_count": 237,
   "id": "0974866a",
   "metadata": {},
   "outputs": [
    {
     "data": {
      "text/plain": [
       "0.00013840495548592387"
      ]
     },
     "execution_count": 237,
     "metadata": {},
     "output_type": "execute_result"
    }
   ],
   "source": [
    "daily_ptc = daily_rebal * ptc\n",
    "daily_ptc"
   ]
  },
  {
   "cell_type": "code",
   "execution_count": 238,
   "id": "fcec217d",
   "metadata": {},
   "outputs": [
    {
     "data": {
      "text/plain": [
       "Date\n",
       "2019-09-10    0.0092\n",
       "2019-09-11    0.0211\n",
       "2019-09-12   -0.0003\n",
       "2019-09-13    0.0020\n",
       "2019-09-16   -0.0062\n",
       "               ...  \n",
       "2024-08-30    0.0135\n",
       "2024-09-03   -0.0251\n",
       "2024-09-04    0.0095\n",
       "2024-09-05    0.0071\n",
       "2024-09-06   -0.0292\n",
       "Length: 1257, dtype: float64"
      ]
     },
     "execution_count": 238,
     "metadata": {},
     "output_type": "execute_result"
    }
   ],
   "source": [
    "port1"
   ]
  },
  {
   "cell_type": "code",
   "execution_count": 239,
   "id": "75192f14",
   "metadata": {},
   "outputs": [
    {
     "data": {
      "text/plain": [
       "Date\n",
       "2019-09-10    0.0090\n",
       "2019-09-11    0.0210\n",
       "2019-09-12   -0.0005\n",
       "2019-09-13    0.0018\n",
       "2019-09-16   -0.0063\n",
       "               ...  \n",
       "2024-08-30    0.0134\n",
       "2024-09-03   -0.0252\n",
       "2024-09-04    0.0094\n",
       "2024-09-05    0.0070\n",
       "2024-09-06   -0.0293\n",
       "Length: 1257, dtype: float64"
      ]
     },
     "execution_count": 239,
     "metadata": {},
     "output_type": "execute_result"
    }
   ],
   "source": [
    "port1_ac = port1 - daily_ptc\n",
    "port1_ac"
   ]
  },
  {
   "cell_type": "code",
   "execution_count": 240,
   "id": "953dc234",
   "metadata": {},
   "outputs": [
    {
     "data": {
      "text/html": [
       "<div>\n",
       "<style scoped>\n",
       "    .dataframe tbody tr th:only-of-type {\n",
       "        vertical-align: middle;\n",
       "    }\n",
       "\n",
       "    .dataframe tbody tr th {\n",
       "        vertical-align: top;\n",
       "    }\n",
       "\n",
       "    .dataframe thead th {\n",
       "        text-align: right;\n",
       "    }\n",
       "</style>\n",
       "<table border=\"1\" class=\"dataframe\">\n",
       "  <thead>\n",
       "    <tr style=\"text-align: right;\">\n",
       "      <th></th>\n",
       "      <th>ann. Risk</th>\n",
       "      <th>CAGR</th>\n",
       "    </tr>\n",
       "  </thead>\n",
       "  <tbody>\n",
       "    <tr>\n",
       "      <th>0</th>\n",
       "      <td>0.2783</td>\n",
       "      <td>0.3273</td>\n",
       "    </tr>\n",
       "  </tbody>\n",
       "</table>\n",
       "</div>"
      ],
      "text/plain": [
       "   ann. Risk   CAGR\n",
       "0     0.2783 0.3273"
      ]
     },
     "execution_count": 240,
     "metadata": {},
     "output_type": "execute_result"
    }
   ],
   "source": [
    "ann_risk_return(port1.to_frame())"
   ]
  },
  {
   "cell_type": "code",
   "execution_count": 241,
   "id": "ade2ad4a",
   "metadata": {},
   "outputs": [
    {
     "data": {
      "text/html": [
       "<div>\n",
       "<style scoped>\n",
       "    .dataframe tbody tr th:only-of-type {\n",
       "        vertical-align: middle;\n",
       "    }\n",
       "\n",
       "    .dataframe tbody tr th {\n",
       "        vertical-align: top;\n",
       "    }\n",
       "\n",
       "    .dataframe thead th {\n",
       "        text-align: right;\n",
       "    }\n",
       "</style>\n",
       "<table border=\"1\" class=\"dataframe\">\n",
       "  <thead>\n",
       "    <tr style=\"text-align: right;\">\n",
       "      <th></th>\n",
       "      <th>ann. Risk</th>\n",
       "      <th>CAGR</th>\n",
       "    </tr>\n",
       "  </thead>\n",
       "  <tbody>\n",
       "    <tr>\n",
       "      <th>0</th>\n",
       "      <td>0.2783</td>\n",
       "      <td>0.2818</td>\n",
       "    </tr>\n",
       "  </tbody>\n",
       "</table>\n",
       "</div>"
      ],
      "text/plain": [
       "   ann. Risk   CAGR\n",
       "0     0.2783 0.2818"
      ]
     },
     "execution_count": 241,
     "metadata": {},
     "output_type": "execute_result"
    }
   ],
   "source": [
    "ann_risk_return(port1_ac.to_frame())"
   ]
  },
  {
   "cell_type": "markdown",
   "id": "c2a4ca52",
   "metadata": {},
   "source": []
  }
 ],
 "metadata": {
  "kernelspec": {
   "display_name": "Python 3 (ipykernel)",
   "language": "python",
   "name": "python3"
  },
  "language_info": {
   "codemirror_mode": {
    "name": "ipython",
    "version": 3
   },
   "file_extension": ".py",
   "mimetype": "text/x-python",
   "name": "python",
   "nbconvert_exporter": "python",
   "pygments_lexer": "ipython3",
   "version": "3.10.14"
  }
 },
 "nbformat": 4,
 "nbformat_minor": 5
}
